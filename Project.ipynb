{
 "cells": [
  {
   "cell_type": "markdown",
   "id": "3431708f",
   "metadata": {},
   "source": [
    "## Первоначальная идея.\n",
    "\n",
    "Изначально мы хотели взять датасет для анализа модных тенденций. Но оказалось, что там неудобная кодировка признаков + тяжело выявить целевой признак, поэтому от этой идеи пришлось отказаться в пользу более релевантной.\n",
    "\n",
    "Ссылки на датасеты:\n",
    "https://labelme.ru/datasets-catalog/494692309291?ysclid=lgdx1jy7h6124560879\n",
    "https://www.kaggle.com/datasets/paramaggarwal/fashion-product-images-dataset"
   ]
  },
  {
   "cell_type": "markdown",
   "id": "232e2d8c",
   "metadata": {},
   "source": [
    "## Итоговая идея"
   ]
  },
  {
   "cell_type": "markdown",
   "id": "db40fa1e",
   "metadata": {},
   "source": [
    "Для анализа мы взяли готовый датасет \"Spotify and Youtube\". Он сожержит информацию по популярным трекам в Spotify и их клипам на Youtube.\n",
    "\n",
    "Основная задача - определять популярность трека по различным характеристикам треков, такими как танцевальность, громкость, энергичность и тд.. И на основе данных будет построена модель машинного обучения, которая будет выявлять закономерности и строить прогнозы для новых треков."
   ]
  },
  {
   "cell_type": "code",
   "execution_count": 48,
   "id": "97c947e5",
   "metadata": {},
   "outputs": [],
   "source": [
    "import pandas as pd\n",
    "import matplotlib.pyplot as plt\n",
    "import seaborn as sns\n",
    "import numpy as np\n",
    "import scipy.stats as sts\n",
    "from scipy import stats\n",
    "from sklearn import metrics\n",
    "from sklearn.model_selection import train_test_split\n",
    "from sklearn.linear_model import LinearRegression\n",
    "from sklearn.metrics import mean_squared_error\n",
    "from sklearn.preprocessing import OneHotEncoder, StandardScaler, MinMaxScaler\n",
    "from sklearn.metrics import accuracy_score, precision_score, recall_score, roc_auc_score\n",
    "\n",
    "import warnings\n",
    "warnings.filterwarnings(\"ignore\")"
   ]
  },
  {
   "cell_type": "code",
   "execution_count": 4,
   "id": "ddd65b37",
   "metadata": {},
   "outputs": [
    {
     "data": {
      "text/html": [
       "<div>\n",
       "<style scoped>\n",
       "    .dataframe tbody tr th:only-of-type {\n",
       "        vertical-align: middle;\n",
       "    }\n",
       "\n",
       "    .dataframe tbody tr th {\n",
       "        vertical-align: top;\n",
       "    }\n",
       "\n",
       "    .dataframe thead th {\n",
       "        text-align: right;\n",
       "    }\n",
       "</style>\n",
       "<table border=\"1\" class=\"dataframe\">\n",
       "  <thead>\n",
       "    <tr style=\"text-align: right;\">\n",
       "      <th></th>\n",
       "      <th>Unnamed: 0</th>\n",
       "      <th>Artist</th>\n",
       "      <th>Url_spotify</th>\n",
       "      <th>Track</th>\n",
       "      <th>Album</th>\n",
       "      <th>Album_type</th>\n",
       "      <th>Uri</th>\n",
       "      <th>Danceability</th>\n",
       "      <th>Energy</th>\n",
       "      <th>Key</th>\n",
       "      <th>...</th>\n",
       "      <th>Url_youtube</th>\n",
       "      <th>Title</th>\n",
       "      <th>Channel</th>\n",
       "      <th>Views</th>\n",
       "      <th>Likes</th>\n",
       "      <th>Comments</th>\n",
       "      <th>Description</th>\n",
       "      <th>Licensed</th>\n",
       "      <th>official_video</th>\n",
       "      <th>Stream</th>\n",
       "    </tr>\n",
       "  </thead>\n",
       "  <tbody>\n",
       "    <tr>\n",
       "      <th>0</th>\n",
       "      <td>0</td>\n",
       "      <td>Gorillaz</td>\n",
       "      <td>https://open.spotify.com/artist/3AA28KZvwAUcZu...</td>\n",
       "      <td>Feel Good Inc.</td>\n",
       "      <td>Demon Days</td>\n",
       "      <td>album</td>\n",
       "      <td>spotify:track:0d28khcov6AiegSCpG5TuT</td>\n",
       "      <td>0.818</td>\n",
       "      <td>0.705</td>\n",
       "      <td>6.0</td>\n",
       "      <td>...</td>\n",
       "      <td>https://www.youtube.com/watch?v=HyHNuVaZJ-k</td>\n",
       "      <td>Gorillaz - Feel Good Inc. (Official Video)</td>\n",
       "      <td>Gorillaz</td>\n",
       "      <td>693555221.0</td>\n",
       "      <td>6220896.0</td>\n",
       "      <td>169907.0</td>\n",
       "      <td>Official HD Video for Gorillaz' fantastic trac...</td>\n",
       "      <td>True</td>\n",
       "      <td>True</td>\n",
       "      <td>1.040235e+09</td>\n",
       "    </tr>\n",
       "    <tr>\n",
       "      <th>1</th>\n",
       "      <td>1</td>\n",
       "      <td>Gorillaz</td>\n",
       "      <td>https://open.spotify.com/artist/3AA28KZvwAUcZu...</td>\n",
       "      <td>Rhinestone Eyes</td>\n",
       "      <td>Plastic Beach</td>\n",
       "      <td>album</td>\n",
       "      <td>spotify:track:1foMv2HQwfQ2vntFf9HFeG</td>\n",
       "      <td>0.676</td>\n",
       "      <td>0.703</td>\n",
       "      <td>8.0</td>\n",
       "      <td>...</td>\n",
       "      <td>https://www.youtube.com/watch?v=yYDmaexVHic</td>\n",
       "      <td>Gorillaz - Rhinestone Eyes [Storyboard Film] (...</td>\n",
       "      <td>Gorillaz</td>\n",
       "      <td>72011645.0</td>\n",
       "      <td>1079128.0</td>\n",
       "      <td>31003.0</td>\n",
       "      <td>The official video for Gorillaz - Rhinestone E...</td>\n",
       "      <td>True</td>\n",
       "      <td>True</td>\n",
       "      <td>3.100837e+08</td>\n",
       "    </tr>\n",
       "    <tr>\n",
       "      <th>2</th>\n",
       "      <td>2</td>\n",
       "      <td>Gorillaz</td>\n",
       "      <td>https://open.spotify.com/artist/3AA28KZvwAUcZu...</td>\n",
       "      <td>New Gold (feat. Tame Impala and Bootie Brown)</td>\n",
       "      <td>New Gold (feat. Tame Impala and Bootie Brown)</td>\n",
       "      <td>single</td>\n",
       "      <td>spotify:track:64dLd6rVqDLtkXFYrEUHIU</td>\n",
       "      <td>0.695</td>\n",
       "      <td>0.923</td>\n",
       "      <td>1.0</td>\n",
       "      <td>...</td>\n",
       "      <td>https://www.youtube.com/watch?v=qJa-VFwPpYA</td>\n",
       "      <td>Gorillaz - New Gold ft. Tame Impala &amp; Bootie B...</td>\n",
       "      <td>Gorillaz</td>\n",
       "      <td>8435055.0</td>\n",
       "      <td>282142.0</td>\n",
       "      <td>7399.0</td>\n",
       "      <td>Gorillaz - New Gold ft. Tame Impala &amp; Bootie B...</td>\n",
       "      <td>True</td>\n",
       "      <td>True</td>\n",
       "      <td>6.306347e+07</td>\n",
       "    </tr>\n",
       "    <tr>\n",
       "      <th>3</th>\n",
       "      <td>3</td>\n",
       "      <td>Gorillaz</td>\n",
       "      <td>https://open.spotify.com/artist/3AA28KZvwAUcZu...</td>\n",
       "      <td>On Melancholy Hill</td>\n",
       "      <td>Plastic Beach</td>\n",
       "      <td>album</td>\n",
       "      <td>spotify:track:0q6LuUqGLUiCPP1cbdwFs3</td>\n",
       "      <td>0.689</td>\n",
       "      <td>0.739</td>\n",
       "      <td>2.0</td>\n",
       "      <td>...</td>\n",
       "      <td>https://www.youtube.com/watch?v=04mfKJWDSzI</td>\n",
       "      <td>Gorillaz - On Melancholy Hill (Official Video)</td>\n",
       "      <td>Gorillaz</td>\n",
       "      <td>211754952.0</td>\n",
       "      <td>1788577.0</td>\n",
       "      <td>55229.0</td>\n",
       "      <td>Follow Gorillaz online:\\nhttp://gorillaz.com \\...</td>\n",
       "      <td>True</td>\n",
       "      <td>True</td>\n",
       "      <td>4.346636e+08</td>\n",
       "    </tr>\n",
       "    <tr>\n",
       "      <th>4</th>\n",
       "      <td>4</td>\n",
       "      <td>Gorillaz</td>\n",
       "      <td>https://open.spotify.com/artist/3AA28KZvwAUcZu...</td>\n",
       "      <td>Clint Eastwood</td>\n",
       "      <td>Gorillaz</td>\n",
       "      <td>album</td>\n",
       "      <td>spotify:track:7yMiX7n9SBvadzox8T5jzT</td>\n",
       "      <td>0.663</td>\n",
       "      <td>0.694</td>\n",
       "      <td>10.0</td>\n",
       "      <td>...</td>\n",
       "      <td>https://www.youtube.com/watch?v=1V_xRb0x9aw</td>\n",
       "      <td>Gorillaz - Clint Eastwood (Official Video)</td>\n",
       "      <td>Gorillaz</td>\n",
       "      <td>618480958.0</td>\n",
       "      <td>6197318.0</td>\n",
       "      <td>155930.0</td>\n",
       "      <td>The official music video for Gorillaz - Clint ...</td>\n",
       "      <td>True</td>\n",
       "      <td>True</td>\n",
       "      <td>6.172597e+08</td>\n",
       "    </tr>\n",
       "    <tr>\n",
       "      <th>...</th>\n",
       "      <td>...</td>\n",
       "      <td>...</td>\n",
       "      <td>...</td>\n",
       "      <td>...</td>\n",
       "      <td>...</td>\n",
       "      <td>...</td>\n",
       "      <td>...</td>\n",
       "      <td>...</td>\n",
       "      <td>...</td>\n",
       "      <td>...</td>\n",
       "      <td>...</td>\n",
       "      <td>...</td>\n",
       "      <td>...</td>\n",
       "      <td>...</td>\n",
       "      <td>...</td>\n",
       "      <td>...</td>\n",
       "      <td>...</td>\n",
       "      <td>...</td>\n",
       "      <td>...</td>\n",
       "      <td>...</td>\n",
       "      <td>...</td>\n",
       "    </tr>\n",
       "    <tr>\n",
       "      <th>20713</th>\n",
       "      <td>20713</td>\n",
       "      <td>SICK LEGEND</td>\n",
       "      <td>https://open.spotify.com/artist/3EYY5FwDkHEYLw...</td>\n",
       "      <td>JUST DANCE HARDSTYLE</td>\n",
       "      <td>JUST DANCE HARDSTYLE</td>\n",
       "      <td>single</td>\n",
       "      <td>spotify:track:0RtcKQGyI4hr8FgFH1TuYG</td>\n",
       "      <td>0.582</td>\n",
       "      <td>0.926</td>\n",
       "      <td>5.0</td>\n",
       "      <td>...</td>\n",
       "      <td>https://www.youtube.com/watch?v=5SHmKFKlNqI</td>\n",
       "      <td>JUST DANCE HARDSTYLE</td>\n",
       "      <td>SICK LEGEND - Topic</td>\n",
       "      <td>71678.0</td>\n",
       "      <td>1113.0</td>\n",
       "      <td>0.0</td>\n",
       "      <td>Provided to YouTube by Routenote\\n\\nJUST DANCE...</td>\n",
       "      <td>True</td>\n",
       "      <td>True</td>\n",
       "      <td>9.227144e+06</td>\n",
       "    </tr>\n",
       "    <tr>\n",
       "      <th>20714</th>\n",
       "      <td>20714</td>\n",
       "      <td>SICK LEGEND</td>\n",
       "      <td>https://open.spotify.com/artist/3EYY5FwDkHEYLw...</td>\n",
       "      <td>SET FIRE TO THE RAIN HARDSTYLE</td>\n",
       "      <td>SET FIRE TO THE RAIN HARDSTYLE</td>\n",
       "      <td>single</td>\n",
       "      <td>spotify:track:3rHvPA8lUnPBkaLyPOc0VV</td>\n",
       "      <td>0.531</td>\n",
       "      <td>0.936</td>\n",
       "      <td>4.0</td>\n",
       "      <td>...</td>\n",
       "      <td>https://www.youtube.com/watch?v=ocTH6KxllDQ</td>\n",
       "      <td>SET FIRE TO THE RAIN HARDSTYLE</td>\n",
       "      <td>SICK LEGEND - Topic</td>\n",
       "      <td>164741.0</td>\n",
       "      <td>2019.0</td>\n",
       "      <td>0.0</td>\n",
       "      <td>Provided to YouTube by Routenote\\n\\nSET FIRE T...</td>\n",
       "      <td>True</td>\n",
       "      <td>True</td>\n",
       "      <td>1.089818e+07</td>\n",
       "    </tr>\n",
       "    <tr>\n",
       "      <th>20715</th>\n",
       "      <td>20715</td>\n",
       "      <td>SICK LEGEND</td>\n",
       "      <td>https://open.spotify.com/artist/3EYY5FwDkHEYLw...</td>\n",
       "      <td>OUTSIDE HARDSTYLE SPED UP</td>\n",
       "      <td>OUTSIDE HARDSTYLE SPED UP</td>\n",
       "      <td>single</td>\n",
       "      <td>spotify:track:4jk00YxPtPbhvHJE9N4ddv</td>\n",
       "      <td>0.443</td>\n",
       "      <td>0.830</td>\n",
       "      <td>4.0</td>\n",
       "      <td>...</td>\n",
       "      <td>https://www.youtube.com/watch?v=5wFhE-HY0hg</td>\n",
       "      <td>OUTSIDE HARDSTYLE SPED UP</td>\n",
       "      <td>SICK LEGEND - Topic</td>\n",
       "      <td>35646.0</td>\n",
       "      <td>329.0</td>\n",
       "      <td>0.0</td>\n",
       "      <td>Provided to YouTube by Routenote\\n\\nOUTSIDE HA...</td>\n",
       "      <td>True</td>\n",
       "      <td>True</td>\n",
       "      <td>6.226110e+06</td>\n",
       "    </tr>\n",
       "    <tr>\n",
       "      <th>20716</th>\n",
       "      <td>20716</td>\n",
       "      <td>SICK LEGEND</td>\n",
       "      <td>https://open.spotify.com/artist/3EYY5FwDkHEYLw...</td>\n",
       "      <td>ONLY GIRL HARDSTYLE</td>\n",
       "      <td>ONLY GIRL HARDSTYLE</td>\n",
       "      <td>single</td>\n",
       "      <td>spotify:track:5EyErbpsugWliX006eTDex</td>\n",
       "      <td>0.417</td>\n",
       "      <td>0.767</td>\n",
       "      <td>9.0</td>\n",
       "      <td>...</td>\n",
       "      <td>https://www.youtube.com/watch?v=VMFLbFRNCn0</td>\n",
       "      <td>ONLY GIRL HARDSTYLE</td>\n",
       "      <td>SICK LEGEND - Topic</td>\n",
       "      <td>6533.0</td>\n",
       "      <td>88.0</td>\n",
       "      <td>0.0</td>\n",
       "      <td>Provided to YouTube by Routenote\\n\\nONLY GIRL ...</td>\n",
       "      <td>True</td>\n",
       "      <td>True</td>\n",
       "      <td>6.873961e+06</td>\n",
       "    </tr>\n",
       "    <tr>\n",
       "      <th>20717</th>\n",
       "      <td>20717</td>\n",
       "      <td>SICK LEGEND</td>\n",
       "      <td>https://open.spotify.com/artist/3EYY5FwDkHEYLw...</td>\n",
       "      <td>MISS YOU HARDSTYLE</td>\n",
       "      <td>MISS YOU HARDSTYLE</td>\n",
       "      <td>single</td>\n",
       "      <td>spotify:track:6lOn0jz1QpjcWeXo1oMm0k</td>\n",
       "      <td>0.498</td>\n",
       "      <td>0.938</td>\n",
       "      <td>6.0</td>\n",
       "      <td>...</td>\n",
       "      <td>https://www.youtube.com/watch?v=zau0dckCFi0</td>\n",
       "      <td>MISS YOU HARDSTYLE</td>\n",
       "      <td>SICK LEGEND - Topic</td>\n",
       "      <td>158697.0</td>\n",
       "      <td>2484.0</td>\n",
       "      <td>0.0</td>\n",
       "      <td>Provided to YouTube by Routenote\\n\\nMISS YOU H...</td>\n",
       "      <td>True</td>\n",
       "      <td>True</td>\n",
       "      <td>5.695584e+06</td>\n",
       "    </tr>\n",
       "  </tbody>\n",
       "</table>\n",
       "<p>20718 rows × 28 columns</p>\n",
       "</div>"
      ],
      "text/plain": [
       "       Unnamed: 0       Artist  \\\n",
       "0               0     Gorillaz   \n",
       "1               1     Gorillaz   \n",
       "2               2     Gorillaz   \n",
       "3               3     Gorillaz   \n",
       "4               4     Gorillaz   \n",
       "...           ...          ...   \n",
       "20713       20713  SICK LEGEND   \n",
       "20714       20714  SICK LEGEND   \n",
       "20715       20715  SICK LEGEND   \n",
       "20716       20716  SICK LEGEND   \n",
       "20717       20717  SICK LEGEND   \n",
       "\n",
       "                                             Url_spotify  \\\n",
       "0      https://open.spotify.com/artist/3AA28KZvwAUcZu...   \n",
       "1      https://open.spotify.com/artist/3AA28KZvwAUcZu...   \n",
       "2      https://open.spotify.com/artist/3AA28KZvwAUcZu...   \n",
       "3      https://open.spotify.com/artist/3AA28KZvwAUcZu...   \n",
       "4      https://open.spotify.com/artist/3AA28KZvwAUcZu...   \n",
       "...                                                  ...   \n",
       "20713  https://open.spotify.com/artist/3EYY5FwDkHEYLw...   \n",
       "20714  https://open.spotify.com/artist/3EYY5FwDkHEYLw...   \n",
       "20715  https://open.spotify.com/artist/3EYY5FwDkHEYLw...   \n",
       "20716  https://open.spotify.com/artist/3EYY5FwDkHEYLw...   \n",
       "20717  https://open.spotify.com/artist/3EYY5FwDkHEYLw...   \n",
       "\n",
       "                                               Track  \\\n",
       "0                                     Feel Good Inc.   \n",
       "1                                    Rhinestone Eyes   \n",
       "2      New Gold (feat. Tame Impala and Bootie Brown)   \n",
       "3                                 On Melancholy Hill   \n",
       "4                                     Clint Eastwood   \n",
       "...                                              ...   \n",
       "20713                           JUST DANCE HARDSTYLE   \n",
       "20714                 SET FIRE TO THE RAIN HARDSTYLE   \n",
       "20715                      OUTSIDE HARDSTYLE SPED UP   \n",
       "20716                            ONLY GIRL HARDSTYLE   \n",
       "20717                             MISS YOU HARDSTYLE   \n",
       "\n",
       "                                               Album Album_type  \\\n",
       "0                                         Demon Days      album   \n",
       "1                                      Plastic Beach      album   \n",
       "2      New Gold (feat. Tame Impala and Bootie Brown)     single   \n",
       "3                                      Plastic Beach      album   \n",
       "4                                           Gorillaz      album   \n",
       "...                                              ...        ...   \n",
       "20713                           JUST DANCE HARDSTYLE     single   \n",
       "20714                 SET FIRE TO THE RAIN HARDSTYLE     single   \n",
       "20715                      OUTSIDE HARDSTYLE SPED UP     single   \n",
       "20716                            ONLY GIRL HARDSTYLE     single   \n",
       "20717                             MISS YOU HARDSTYLE     single   \n",
       "\n",
       "                                        Uri  Danceability  Energy   Key  ...  \\\n",
       "0      spotify:track:0d28khcov6AiegSCpG5TuT         0.818   0.705   6.0  ...   \n",
       "1      spotify:track:1foMv2HQwfQ2vntFf9HFeG         0.676   0.703   8.0  ...   \n",
       "2      spotify:track:64dLd6rVqDLtkXFYrEUHIU         0.695   0.923   1.0  ...   \n",
       "3      spotify:track:0q6LuUqGLUiCPP1cbdwFs3         0.689   0.739   2.0  ...   \n",
       "4      spotify:track:7yMiX7n9SBvadzox8T5jzT         0.663   0.694  10.0  ...   \n",
       "...                                     ...           ...     ...   ...  ...   \n",
       "20713  spotify:track:0RtcKQGyI4hr8FgFH1TuYG         0.582   0.926   5.0  ...   \n",
       "20714  spotify:track:3rHvPA8lUnPBkaLyPOc0VV         0.531   0.936   4.0  ...   \n",
       "20715  spotify:track:4jk00YxPtPbhvHJE9N4ddv         0.443   0.830   4.0  ...   \n",
       "20716  spotify:track:5EyErbpsugWliX006eTDex         0.417   0.767   9.0  ...   \n",
       "20717  spotify:track:6lOn0jz1QpjcWeXo1oMm0k         0.498   0.938   6.0  ...   \n",
       "\n",
       "                                       Url_youtube  \\\n",
       "0      https://www.youtube.com/watch?v=HyHNuVaZJ-k   \n",
       "1      https://www.youtube.com/watch?v=yYDmaexVHic   \n",
       "2      https://www.youtube.com/watch?v=qJa-VFwPpYA   \n",
       "3      https://www.youtube.com/watch?v=04mfKJWDSzI   \n",
       "4      https://www.youtube.com/watch?v=1V_xRb0x9aw   \n",
       "...                                            ...   \n",
       "20713  https://www.youtube.com/watch?v=5SHmKFKlNqI   \n",
       "20714  https://www.youtube.com/watch?v=ocTH6KxllDQ   \n",
       "20715  https://www.youtube.com/watch?v=5wFhE-HY0hg   \n",
       "20716  https://www.youtube.com/watch?v=VMFLbFRNCn0   \n",
       "20717  https://www.youtube.com/watch?v=zau0dckCFi0   \n",
       "\n",
       "                                                   Title              Channel  \\\n",
       "0             Gorillaz - Feel Good Inc. (Official Video)             Gorillaz   \n",
       "1      Gorillaz - Rhinestone Eyes [Storyboard Film] (...             Gorillaz   \n",
       "2      Gorillaz - New Gold ft. Tame Impala & Bootie B...             Gorillaz   \n",
       "3         Gorillaz - On Melancholy Hill (Official Video)             Gorillaz   \n",
       "4             Gorillaz - Clint Eastwood (Official Video)             Gorillaz   \n",
       "...                                                  ...                  ...   \n",
       "20713                               JUST DANCE HARDSTYLE  SICK LEGEND - Topic   \n",
       "20714                     SET FIRE TO THE RAIN HARDSTYLE  SICK LEGEND - Topic   \n",
       "20715                          OUTSIDE HARDSTYLE SPED UP  SICK LEGEND - Topic   \n",
       "20716                                ONLY GIRL HARDSTYLE  SICK LEGEND - Topic   \n",
       "20717                                 MISS YOU HARDSTYLE  SICK LEGEND - Topic   \n",
       "\n",
       "             Views      Likes  Comments  \\\n",
       "0      693555221.0  6220896.0  169907.0   \n",
       "1       72011645.0  1079128.0   31003.0   \n",
       "2        8435055.0   282142.0    7399.0   \n",
       "3      211754952.0  1788577.0   55229.0   \n",
       "4      618480958.0  6197318.0  155930.0   \n",
       "...            ...        ...       ...   \n",
       "20713      71678.0     1113.0       0.0   \n",
       "20714     164741.0     2019.0       0.0   \n",
       "20715      35646.0      329.0       0.0   \n",
       "20716       6533.0       88.0       0.0   \n",
       "20717     158697.0     2484.0       0.0   \n",
       "\n",
       "                                             Description  Licensed  \\\n",
       "0      Official HD Video for Gorillaz' fantastic trac...      True   \n",
       "1      The official video for Gorillaz - Rhinestone E...      True   \n",
       "2      Gorillaz - New Gold ft. Tame Impala & Bootie B...      True   \n",
       "3      Follow Gorillaz online:\\nhttp://gorillaz.com \\...      True   \n",
       "4      The official music video for Gorillaz - Clint ...      True   \n",
       "...                                                  ...       ...   \n",
       "20713  Provided to YouTube by Routenote\\n\\nJUST DANCE...      True   \n",
       "20714  Provided to YouTube by Routenote\\n\\nSET FIRE T...      True   \n",
       "20715  Provided to YouTube by Routenote\\n\\nOUTSIDE HA...      True   \n",
       "20716  Provided to YouTube by Routenote\\n\\nONLY GIRL ...      True   \n",
       "20717  Provided to YouTube by Routenote\\n\\nMISS YOU H...      True   \n",
       "\n",
       "      official_video        Stream  \n",
       "0               True  1.040235e+09  \n",
       "1               True  3.100837e+08  \n",
       "2               True  6.306347e+07  \n",
       "3               True  4.346636e+08  \n",
       "4               True  6.172597e+08  \n",
       "...              ...           ...  \n",
       "20713           True  9.227144e+06  \n",
       "20714           True  1.089818e+07  \n",
       "20715           True  6.226110e+06  \n",
       "20716           True  6.873961e+06  \n",
       "20717           True  5.695584e+06  \n",
       "\n",
       "[20718 rows x 28 columns]"
      ]
     },
     "execution_count": 4,
     "metadata": {},
     "output_type": "execute_result"
    }
   ],
   "source": [
    "df = pd.read_csv(r\"C:\\Users\\acer\\Desktop\\Проект по Андану\\Spotify_Youtube.csv\")\n",
    "df"
   ]
  },
  {
   "cell_type": "code",
   "execution_count": 5,
   "id": "c323adf1",
   "metadata": {},
   "outputs": [
    {
     "data": {
      "text/plain": [
       "(20718, 28)"
      ]
     },
     "execution_count": 5,
     "metadata": {},
     "output_type": "execute_result"
    }
   ],
   "source": [
    "df.shape"
   ]
  },
  {
   "cell_type": "code",
   "execution_count": 6,
   "id": "cb3d1330",
   "metadata": {},
   "outputs": [
    {
     "data": {
      "text/html": [
       "<div>\n",
       "<style scoped>\n",
       "    .dataframe tbody tr th:only-of-type {\n",
       "        vertical-align: middle;\n",
       "    }\n",
       "\n",
       "    .dataframe tbody tr th {\n",
       "        vertical-align: top;\n",
       "    }\n",
       "\n",
       "    .dataframe thead th {\n",
       "        text-align: right;\n",
       "    }\n",
       "</style>\n",
       "<table border=\"1\" class=\"dataframe\">\n",
       "  <thead>\n",
       "    <tr style=\"text-align: right;\">\n",
       "      <th></th>\n",
       "      <th>Artist</th>\n",
       "      <th>Url_spotify</th>\n",
       "      <th>Track</th>\n",
       "      <th>Danceability</th>\n",
       "      <th>Energy</th>\n",
       "      <th>Loudness</th>\n",
       "      <th>Speechiness</th>\n",
       "      <th>Acousticness</th>\n",
       "      <th>Instrumentalness</th>\n",
       "      <th>Liveness</th>\n",
       "      <th>Valence</th>\n",
       "      <th>Tempo</th>\n",
       "      <th>Duration_ms</th>\n",
       "      <th>Url_youtube</th>\n",
       "      <th>Title</th>\n",
       "      <th>Channel</th>\n",
       "      <th>Views</th>\n",
       "      <th>Likes</th>\n",
       "      <th>Comments</th>\n",
       "    </tr>\n",
       "  </thead>\n",
       "  <tbody>\n",
       "    <tr>\n",
       "      <th>0</th>\n",
       "      <td>Gorillaz</td>\n",
       "      <td>https://open.spotify.com/artist/3AA28KZvwAUcZu...</td>\n",
       "      <td>Feel Good Inc.</td>\n",
       "      <td>0.818</td>\n",
       "      <td>0.705</td>\n",
       "      <td>-6.679</td>\n",
       "      <td>0.1770</td>\n",
       "      <td>0.008360</td>\n",
       "      <td>0.002330</td>\n",
       "      <td>0.6130</td>\n",
       "      <td>0.772</td>\n",
       "      <td>138.559</td>\n",
       "      <td>222640.0</td>\n",
       "      <td>https://www.youtube.com/watch?v=HyHNuVaZJ-k</td>\n",
       "      <td>Gorillaz - Feel Good Inc. (Official Video)</td>\n",
       "      <td>Gorillaz</td>\n",
       "      <td>693555221.0</td>\n",
       "      <td>6220896.0</td>\n",
       "      <td>169907.0</td>\n",
       "    </tr>\n",
       "    <tr>\n",
       "      <th>1</th>\n",
       "      <td>Gorillaz</td>\n",
       "      <td>https://open.spotify.com/artist/3AA28KZvwAUcZu...</td>\n",
       "      <td>Rhinestone Eyes</td>\n",
       "      <td>0.676</td>\n",
       "      <td>0.703</td>\n",
       "      <td>-5.815</td>\n",
       "      <td>0.0302</td>\n",
       "      <td>0.086900</td>\n",
       "      <td>0.000687</td>\n",
       "      <td>0.0463</td>\n",
       "      <td>0.852</td>\n",
       "      <td>92.761</td>\n",
       "      <td>200173.0</td>\n",
       "      <td>https://www.youtube.com/watch?v=yYDmaexVHic</td>\n",
       "      <td>Gorillaz - Rhinestone Eyes [Storyboard Film] (...</td>\n",
       "      <td>Gorillaz</td>\n",
       "      <td>72011645.0</td>\n",
       "      <td>1079128.0</td>\n",
       "      <td>31003.0</td>\n",
       "    </tr>\n",
       "    <tr>\n",
       "      <th>2</th>\n",
       "      <td>Gorillaz</td>\n",
       "      <td>https://open.spotify.com/artist/3AA28KZvwAUcZu...</td>\n",
       "      <td>New Gold (feat. Tame Impala and Bootie Brown)</td>\n",
       "      <td>0.695</td>\n",
       "      <td>0.923</td>\n",
       "      <td>-3.930</td>\n",
       "      <td>0.0522</td>\n",
       "      <td>0.042500</td>\n",
       "      <td>0.046900</td>\n",
       "      <td>0.1160</td>\n",
       "      <td>0.551</td>\n",
       "      <td>108.014</td>\n",
       "      <td>215150.0</td>\n",
       "      <td>https://www.youtube.com/watch?v=qJa-VFwPpYA</td>\n",
       "      <td>Gorillaz - New Gold ft. Tame Impala &amp; Bootie B...</td>\n",
       "      <td>Gorillaz</td>\n",
       "      <td>8435055.0</td>\n",
       "      <td>282142.0</td>\n",
       "      <td>7399.0</td>\n",
       "    </tr>\n",
       "    <tr>\n",
       "      <th>3</th>\n",
       "      <td>Gorillaz</td>\n",
       "      <td>https://open.spotify.com/artist/3AA28KZvwAUcZu...</td>\n",
       "      <td>On Melancholy Hill</td>\n",
       "      <td>0.689</td>\n",
       "      <td>0.739</td>\n",
       "      <td>-5.810</td>\n",
       "      <td>0.0260</td>\n",
       "      <td>0.000015</td>\n",
       "      <td>0.509000</td>\n",
       "      <td>0.0640</td>\n",
       "      <td>0.578</td>\n",
       "      <td>120.423</td>\n",
       "      <td>233867.0</td>\n",
       "      <td>https://www.youtube.com/watch?v=04mfKJWDSzI</td>\n",
       "      <td>Gorillaz - On Melancholy Hill (Official Video)</td>\n",
       "      <td>Gorillaz</td>\n",
       "      <td>211754952.0</td>\n",
       "      <td>1788577.0</td>\n",
       "      <td>55229.0</td>\n",
       "    </tr>\n",
       "    <tr>\n",
       "      <th>4</th>\n",
       "      <td>Gorillaz</td>\n",
       "      <td>https://open.spotify.com/artist/3AA28KZvwAUcZu...</td>\n",
       "      <td>Clint Eastwood</td>\n",
       "      <td>0.663</td>\n",
       "      <td>0.694</td>\n",
       "      <td>-8.627</td>\n",
       "      <td>0.1710</td>\n",
       "      <td>0.025300</td>\n",
       "      <td>0.000000</td>\n",
       "      <td>0.0698</td>\n",
       "      <td>0.525</td>\n",
       "      <td>167.953</td>\n",
       "      <td>340920.0</td>\n",
       "      <td>https://www.youtube.com/watch?v=1V_xRb0x9aw</td>\n",
       "      <td>Gorillaz - Clint Eastwood (Official Video)</td>\n",
       "      <td>Gorillaz</td>\n",
       "      <td>618480958.0</td>\n",
       "      <td>6197318.0</td>\n",
       "      <td>155930.0</td>\n",
       "    </tr>\n",
       "  </tbody>\n",
       "</table>\n",
       "</div>"
      ],
      "text/plain": [
       "     Artist                                        Url_spotify  \\\n",
       "0  Gorillaz  https://open.spotify.com/artist/3AA28KZvwAUcZu...   \n",
       "1  Gorillaz  https://open.spotify.com/artist/3AA28KZvwAUcZu...   \n",
       "2  Gorillaz  https://open.spotify.com/artist/3AA28KZvwAUcZu...   \n",
       "3  Gorillaz  https://open.spotify.com/artist/3AA28KZvwAUcZu...   \n",
       "4  Gorillaz  https://open.spotify.com/artist/3AA28KZvwAUcZu...   \n",
       "\n",
       "                                           Track  Danceability  Energy  \\\n",
       "0                                 Feel Good Inc.         0.818   0.705   \n",
       "1                                Rhinestone Eyes         0.676   0.703   \n",
       "2  New Gold (feat. Tame Impala and Bootie Brown)         0.695   0.923   \n",
       "3                             On Melancholy Hill         0.689   0.739   \n",
       "4                                 Clint Eastwood         0.663   0.694   \n",
       "\n",
       "   Loudness  Speechiness  Acousticness  Instrumentalness  Liveness  Valence  \\\n",
       "0    -6.679       0.1770      0.008360          0.002330    0.6130    0.772   \n",
       "1    -5.815       0.0302      0.086900          0.000687    0.0463    0.852   \n",
       "2    -3.930       0.0522      0.042500          0.046900    0.1160    0.551   \n",
       "3    -5.810       0.0260      0.000015          0.509000    0.0640    0.578   \n",
       "4    -8.627       0.1710      0.025300          0.000000    0.0698    0.525   \n",
       "\n",
       "     Tempo  Duration_ms                                  Url_youtube  \\\n",
       "0  138.559     222640.0  https://www.youtube.com/watch?v=HyHNuVaZJ-k   \n",
       "1   92.761     200173.0  https://www.youtube.com/watch?v=yYDmaexVHic   \n",
       "2  108.014     215150.0  https://www.youtube.com/watch?v=qJa-VFwPpYA   \n",
       "3  120.423     233867.0  https://www.youtube.com/watch?v=04mfKJWDSzI   \n",
       "4  167.953     340920.0  https://www.youtube.com/watch?v=1V_xRb0x9aw   \n",
       "\n",
       "                                               Title   Channel        Views  \\\n",
       "0         Gorillaz - Feel Good Inc. (Official Video)  Gorillaz  693555221.0   \n",
       "1  Gorillaz - Rhinestone Eyes [Storyboard Film] (...  Gorillaz   72011645.0   \n",
       "2  Gorillaz - New Gold ft. Tame Impala & Bootie B...  Gorillaz    8435055.0   \n",
       "3     Gorillaz - On Melancholy Hill (Official Video)  Gorillaz  211754952.0   \n",
       "4         Gorillaz - Clint Eastwood (Official Video)  Gorillaz  618480958.0   \n",
       "\n",
       "       Likes  Comments  \n",
       "0  6220896.0  169907.0  \n",
       "1  1079128.0   31003.0  \n",
       "2   282142.0    7399.0  \n",
       "3  1788577.0   55229.0  \n",
       "4  6197318.0  155930.0  "
      ]
     },
     "execution_count": 6,
     "metadata": {},
     "output_type": "execute_result"
    }
   ],
   "source": [
    "df.drop(['Unnamed: 0', 'Album', 'Album_type', 'Uri', 'Description', 'Licensed', 'official_video', 'Stream', 'Key'], axis = 1, inplace=True)\n",
    "df.head()"
   ]
  },
  {
   "cell_type": "code",
   "execution_count": 7,
   "id": "2d23cc2f",
   "metadata": {},
   "outputs": [
    {
     "data": {
      "text/plain": [
       "Artist                0\n",
       "Url_spotify           0\n",
       "Track                 0\n",
       "Danceability          2\n",
       "Energy                2\n",
       "Loudness              2\n",
       "Speechiness           2\n",
       "Acousticness          2\n",
       "Instrumentalness      2\n",
       "Liveness              2\n",
       "Valence               2\n",
       "Tempo                 2\n",
       "Duration_ms           2\n",
       "Url_youtube         470\n",
       "Title               470\n",
       "Channel             470\n",
       "Views               470\n",
       "Likes               541\n",
       "Comments            569\n",
       "dtype: int64"
      ]
     },
     "execution_count": 7,
     "metadata": {},
     "output_type": "execute_result"
    }
   ],
   "source": [
    "# Ищем пропуски\n",
    "df.isnull().sum()"
   ]
  },
  {
   "cell_type": "code",
   "execution_count": 8,
   "id": "328e4f5a",
   "metadata": {},
   "outputs": [
    {
     "data": {
      "text/html": [
       "<div>\n",
       "<style scoped>\n",
       "    .dataframe tbody tr th:only-of-type {\n",
       "        vertical-align: middle;\n",
       "    }\n",
       "\n",
       "    .dataframe tbody tr th {\n",
       "        vertical-align: top;\n",
       "    }\n",
       "\n",
       "    .dataframe thead th {\n",
       "        text-align: right;\n",
       "    }\n",
       "</style>\n",
       "<table border=\"1\" class=\"dataframe\">\n",
       "  <thead>\n",
       "    <tr style=\"text-align: right;\">\n",
       "      <th></th>\n",
       "      <th>Artist</th>\n",
       "      <th>Url_spotify</th>\n",
       "      <th>Track</th>\n",
       "      <th>Danceability</th>\n",
       "      <th>Energy</th>\n",
       "      <th>Loudness</th>\n",
       "      <th>Speechiness</th>\n",
       "      <th>Acousticness</th>\n",
       "      <th>Instrumentalness</th>\n",
       "      <th>Liveness</th>\n",
       "      <th>Valence</th>\n",
       "      <th>Tempo</th>\n",
       "      <th>Duration_ms</th>\n",
       "      <th>Url_youtube</th>\n",
       "      <th>Title</th>\n",
       "      <th>Channel</th>\n",
       "      <th>Views</th>\n",
       "      <th>Likes</th>\n",
       "      <th>Comments</th>\n",
       "    </tr>\n",
       "  </thead>\n",
       "  <tbody>\n",
       "    <tr>\n",
       "      <th>0</th>\n",
       "      <td>Gorillaz</td>\n",
       "      <td>https://open.spotify.com/artist/3AA28KZvwAUcZu...</td>\n",
       "      <td>Feel Good Inc.</td>\n",
       "      <td>0.818</td>\n",
       "      <td>0.705</td>\n",
       "      <td>-6.679</td>\n",
       "      <td>0.1770</td>\n",
       "      <td>0.008360</td>\n",
       "      <td>0.002330</td>\n",
       "      <td>0.6130</td>\n",
       "      <td>0.7720</td>\n",
       "      <td>138.559</td>\n",
       "      <td>222640.0</td>\n",
       "      <td>https://www.youtube.com/watch?v=HyHNuVaZJ-k</td>\n",
       "      <td>Gorillaz - Feel Good Inc. (Official Video)</td>\n",
       "      <td>Gorillaz</td>\n",
       "      <td>693555221.0</td>\n",
       "      <td>6220896.0</td>\n",
       "      <td>169907.0</td>\n",
       "    </tr>\n",
       "    <tr>\n",
       "      <th>1</th>\n",
       "      <td>Gorillaz</td>\n",
       "      <td>https://open.spotify.com/artist/3AA28KZvwAUcZu...</td>\n",
       "      <td>Rhinestone Eyes</td>\n",
       "      <td>0.676</td>\n",
       "      <td>0.703</td>\n",
       "      <td>-5.815</td>\n",
       "      <td>0.0302</td>\n",
       "      <td>0.086900</td>\n",
       "      <td>0.000687</td>\n",
       "      <td>0.0463</td>\n",
       "      <td>0.8520</td>\n",
       "      <td>92.761</td>\n",
       "      <td>200173.0</td>\n",
       "      <td>https://www.youtube.com/watch?v=yYDmaexVHic</td>\n",
       "      <td>Gorillaz - Rhinestone Eyes [Storyboard Film] (...</td>\n",
       "      <td>Gorillaz</td>\n",
       "      <td>72011645.0</td>\n",
       "      <td>1079128.0</td>\n",
       "      <td>31003.0</td>\n",
       "    </tr>\n",
       "    <tr>\n",
       "      <th>2</th>\n",
       "      <td>Gorillaz</td>\n",
       "      <td>https://open.spotify.com/artist/3AA28KZvwAUcZu...</td>\n",
       "      <td>New Gold (feat. Tame Impala and Bootie Brown)</td>\n",
       "      <td>0.695</td>\n",
       "      <td>0.923</td>\n",
       "      <td>-3.930</td>\n",
       "      <td>0.0522</td>\n",
       "      <td>0.042500</td>\n",
       "      <td>0.046900</td>\n",
       "      <td>0.1160</td>\n",
       "      <td>0.5510</td>\n",
       "      <td>108.014</td>\n",
       "      <td>215150.0</td>\n",
       "      <td>https://www.youtube.com/watch?v=qJa-VFwPpYA</td>\n",
       "      <td>Gorillaz - New Gold ft. Tame Impala &amp; Bootie B...</td>\n",
       "      <td>Gorillaz</td>\n",
       "      <td>8435055.0</td>\n",
       "      <td>282142.0</td>\n",
       "      <td>7399.0</td>\n",
       "    </tr>\n",
       "    <tr>\n",
       "      <th>3</th>\n",
       "      <td>Gorillaz</td>\n",
       "      <td>https://open.spotify.com/artist/3AA28KZvwAUcZu...</td>\n",
       "      <td>On Melancholy Hill</td>\n",
       "      <td>0.689</td>\n",
       "      <td>0.739</td>\n",
       "      <td>-5.810</td>\n",
       "      <td>0.0260</td>\n",
       "      <td>0.000015</td>\n",
       "      <td>0.509000</td>\n",
       "      <td>0.0640</td>\n",
       "      <td>0.5780</td>\n",
       "      <td>120.423</td>\n",
       "      <td>233867.0</td>\n",
       "      <td>https://www.youtube.com/watch?v=04mfKJWDSzI</td>\n",
       "      <td>Gorillaz - On Melancholy Hill (Official Video)</td>\n",
       "      <td>Gorillaz</td>\n",
       "      <td>211754952.0</td>\n",
       "      <td>1788577.0</td>\n",
       "      <td>55229.0</td>\n",
       "    </tr>\n",
       "    <tr>\n",
       "      <th>4</th>\n",
       "      <td>Gorillaz</td>\n",
       "      <td>https://open.spotify.com/artist/3AA28KZvwAUcZu...</td>\n",
       "      <td>Clint Eastwood</td>\n",
       "      <td>0.663</td>\n",
       "      <td>0.694</td>\n",
       "      <td>-8.627</td>\n",
       "      <td>0.1710</td>\n",
       "      <td>0.025300</td>\n",
       "      <td>0.000000</td>\n",
       "      <td>0.0698</td>\n",
       "      <td>0.5250</td>\n",
       "      <td>167.953</td>\n",
       "      <td>340920.0</td>\n",
       "      <td>https://www.youtube.com/watch?v=1V_xRb0x9aw</td>\n",
       "      <td>Gorillaz - Clint Eastwood (Official Video)</td>\n",
       "      <td>Gorillaz</td>\n",
       "      <td>618480958.0</td>\n",
       "      <td>6197318.0</td>\n",
       "      <td>155930.0</td>\n",
       "    </tr>\n",
       "    <tr>\n",
       "      <th>...</th>\n",
       "      <td>...</td>\n",
       "      <td>...</td>\n",
       "      <td>...</td>\n",
       "      <td>...</td>\n",
       "      <td>...</td>\n",
       "      <td>...</td>\n",
       "      <td>...</td>\n",
       "      <td>...</td>\n",
       "      <td>...</td>\n",
       "      <td>...</td>\n",
       "      <td>...</td>\n",
       "      <td>...</td>\n",
       "      <td>...</td>\n",
       "      <td>...</td>\n",
       "      <td>...</td>\n",
       "      <td>...</td>\n",
       "      <td>...</td>\n",
       "      <td>...</td>\n",
       "      <td>...</td>\n",
       "    </tr>\n",
       "    <tr>\n",
       "      <th>20094</th>\n",
       "      <td>SICK LEGEND</td>\n",
       "      <td>https://open.spotify.com/artist/3EYY5FwDkHEYLw...</td>\n",
       "      <td>JUST DANCE HARDSTYLE</td>\n",
       "      <td>0.582</td>\n",
       "      <td>0.926</td>\n",
       "      <td>-6.344</td>\n",
       "      <td>0.0328</td>\n",
       "      <td>0.448000</td>\n",
       "      <td>0.000000</td>\n",
       "      <td>0.0839</td>\n",
       "      <td>0.6580</td>\n",
       "      <td>90.002</td>\n",
       "      <td>94667.0</td>\n",
       "      <td>https://www.youtube.com/watch?v=5SHmKFKlNqI</td>\n",
       "      <td>JUST DANCE HARDSTYLE</td>\n",
       "      <td>SICK LEGEND - Topic</td>\n",
       "      <td>71678.0</td>\n",
       "      <td>1113.0</td>\n",
       "      <td>0.0</td>\n",
       "    </tr>\n",
       "    <tr>\n",
       "      <th>20095</th>\n",
       "      <td>SICK LEGEND</td>\n",
       "      <td>https://open.spotify.com/artist/3EYY5FwDkHEYLw...</td>\n",
       "      <td>SET FIRE TO THE RAIN HARDSTYLE</td>\n",
       "      <td>0.531</td>\n",
       "      <td>0.936</td>\n",
       "      <td>-1.786</td>\n",
       "      <td>0.1370</td>\n",
       "      <td>0.028000</td>\n",
       "      <td>0.000000</td>\n",
       "      <td>0.0923</td>\n",
       "      <td>0.6570</td>\n",
       "      <td>174.869</td>\n",
       "      <td>150857.0</td>\n",
       "      <td>https://www.youtube.com/watch?v=ocTH6KxllDQ</td>\n",
       "      <td>SET FIRE TO THE RAIN HARDSTYLE</td>\n",
       "      <td>SICK LEGEND - Topic</td>\n",
       "      <td>164741.0</td>\n",
       "      <td>2019.0</td>\n",
       "      <td>0.0</td>\n",
       "    </tr>\n",
       "    <tr>\n",
       "      <th>20096</th>\n",
       "      <td>SICK LEGEND</td>\n",
       "      <td>https://open.spotify.com/artist/3EYY5FwDkHEYLw...</td>\n",
       "      <td>OUTSIDE HARDSTYLE SPED UP</td>\n",
       "      <td>0.443</td>\n",
       "      <td>0.830</td>\n",
       "      <td>-4.679</td>\n",
       "      <td>0.0647</td>\n",
       "      <td>0.024300</td>\n",
       "      <td>0.000000</td>\n",
       "      <td>0.1540</td>\n",
       "      <td>0.4190</td>\n",
       "      <td>168.388</td>\n",
       "      <td>136842.0</td>\n",
       "      <td>https://www.youtube.com/watch?v=5wFhE-HY0hg</td>\n",
       "      <td>OUTSIDE HARDSTYLE SPED UP</td>\n",
       "      <td>SICK LEGEND - Topic</td>\n",
       "      <td>35646.0</td>\n",
       "      <td>329.0</td>\n",
       "      <td>0.0</td>\n",
       "    </tr>\n",
       "    <tr>\n",
       "      <th>20097</th>\n",
       "      <td>SICK LEGEND</td>\n",
       "      <td>https://open.spotify.com/artist/3EYY5FwDkHEYLw...</td>\n",
       "      <td>ONLY GIRL HARDSTYLE</td>\n",
       "      <td>0.417</td>\n",
       "      <td>0.767</td>\n",
       "      <td>-4.004</td>\n",
       "      <td>0.4190</td>\n",
       "      <td>0.356000</td>\n",
       "      <td>0.018400</td>\n",
       "      <td>0.1080</td>\n",
       "      <td>0.5390</td>\n",
       "      <td>155.378</td>\n",
       "      <td>108387.0</td>\n",
       "      <td>https://www.youtube.com/watch?v=VMFLbFRNCn0</td>\n",
       "      <td>ONLY GIRL HARDSTYLE</td>\n",
       "      <td>SICK LEGEND - Topic</td>\n",
       "      <td>6533.0</td>\n",
       "      <td>88.0</td>\n",
       "      <td>0.0</td>\n",
       "    </tr>\n",
       "    <tr>\n",
       "      <th>20098</th>\n",
       "      <td>SICK LEGEND</td>\n",
       "      <td>https://open.spotify.com/artist/3EYY5FwDkHEYLw...</td>\n",
       "      <td>MISS YOU HARDSTYLE</td>\n",
       "      <td>0.498</td>\n",
       "      <td>0.938</td>\n",
       "      <td>-4.543</td>\n",
       "      <td>0.1070</td>\n",
       "      <td>0.002770</td>\n",
       "      <td>0.911000</td>\n",
       "      <td>0.1360</td>\n",
       "      <td>0.0787</td>\n",
       "      <td>160.067</td>\n",
       "      <td>181500.0</td>\n",
       "      <td>https://www.youtube.com/watch?v=zau0dckCFi0</td>\n",
       "      <td>MISS YOU HARDSTYLE</td>\n",
       "      <td>SICK LEGEND - Topic</td>\n",
       "      <td>158697.0</td>\n",
       "      <td>2484.0</td>\n",
       "      <td>0.0</td>\n",
       "    </tr>\n",
       "  </tbody>\n",
       "</table>\n",
       "<p>20099 rows × 19 columns</p>\n",
       "</div>"
      ],
      "text/plain": [
       "            Artist                                        Url_spotify  \\\n",
       "0         Gorillaz  https://open.spotify.com/artist/3AA28KZvwAUcZu...   \n",
       "1         Gorillaz  https://open.spotify.com/artist/3AA28KZvwAUcZu...   \n",
       "2         Gorillaz  https://open.spotify.com/artist/3AA28KZvwAUcZu...   \n",
       "3         Gorillaz  https://open.spotify.com/artist/3AA28KZvwAUcZu...   \n",
       "4         Gorillaz  https://open.spotify.com/artist/3AA28KZvwAUcZu...   \n",
       "...            ...                                                ...   \n",
       "20094  SICK LEGEND  https://open.spotify.com/artist/3EYY5FwDkHEYLw...   \n",
       "20095  SICK LEGEND  https://open.spotify.com/artist/3EYY5FwDkHEYLw...   \n",
       "20096  SICK LEGEND  https://open.spotify.com/artist/3EYY5FwDkHEYLw...   \n",
       "20097  SICK LEGEND  https://open.spotify.com/artist/3EYY5FwDkHEYLw...   \n",
       "20098  SICK LEGEND  https://open.spotify.com/artist/3EYY5FwDkHEYLw...   \n",
       "\n",
       "                                               Track  Danceability  Energy  \\\n",
       "0                                     Feel Good Inc.         0.818   0.705   \n",
       "1                                    Rhinestone Eyes         0.676   0.703   \n",
       "2      New Gold (feat. Tame Impala and Bootie Brown)         0.695   0.923   \n",
       "3                                 On Melancholy Hill         0.689   0.739   \n",
       "4                                     Clint Eastwood         0.663   0.694   \n",
       "...                                              ...           ...     ...   \n",
       "20094                           JUST DANCE HARDSTYLE         0.582   0.926   \n",
       "20095                 SET FIRE TO THE RAIN HARDSTYLE         0.531   0.936   \n",
       "20096                      OUTSIDE HARDSTYLE SPED UP         0.443   0.830   \n",
       "20097                            ONLY GIRL HARDSTYLE         0.417   0.767   \n",
       "20098                             MISS YOU HARDSTYLE         0.498   0.938   \n",
       "\n",
       "       Loudness  Speechiness  Acousticness  Instrumentalness  Liveness  \\\n",
       "0        -6.679       0.1770      0.008360          0.002330    0.6130   \n",
       "1        -5.815       0.0302      0.086900          0.000687    0.0463   \n",
       "2        -3.930       0.0522      0.042500          0.046900    0.1160   \n",
       "3        -5.810       0.0260      0.000015          0.509000    0.0640   \n",
       "4        -8.627       0.1710      0.025300          0.000000    0.0698   \n",
       "...         ...          ...           ...               ...       ...   \n",
       "20094    -6.344       0.0328      0.448000          0.000000    0.0839   \n",
       "20095    -1.786       0.1370      0.028000          0.000000    0.0923   \n",
       "20096    -4.679       0.0647      0.024300          0.000000    0.1540   \n",
       "20097    -4.004       0.4190      0.356000          0.018400    0.1080   \n",
       "20098    -4.543       0.1070      0.002770          0.911000    0.1360   \n",
       "\n",
       "       Valence    Tempo  Duration_ms  \\\n",
       "0       0.7720  138.559     222640.0   \n",
       "1       0.8520   92.761     200173.0   \n",
       "2       0.5510  108.014     215150.0   \n",
       "3       0.5780  120.423     233867.0   \n",
       "4       0.5250  167.953     340920.0   \n",
       "...        ...      ...          ...   \n",
       "20094   0.6580   90.002      94667.0   \n",
       "20095   0.6570  174.869     150857.0   \n",
       "20096   0.4190  168.388     136842.0   \n",
       "20097   0.5390  155.378     108387.0   \n",
       "20098   0.0787  160.067     181500.0   \n",
       "\n",
       "                                       Url_youtube  \\\n",
       "0      https://www.youtube.com/watch?v=HyHNuVaZJ-k   \n",
       "1      https://www.youtube.com/watch?v=yYDmaexVHic   \n",
       "2      https://www.youtube.com/watch?v=qJa-VFwPpYA   \n",
       "3      https://www.youtube.com/watch?v=04mfKJWDSzI   \n",
       "4      https://www.youtube.com/watch?v=1V_xRb0x9aw   \n",
       "...                                            ...   \n",
       "20094  https://www.youtube.com/watch?v=5SHmKFKlNqI   \n",
       "20095  https://www.youtube.com/watch?v=ocTH6KxllDQ   \n",
       "20096  https://www.youtube.com/watch?v=5wFhE-HY0hg   \n",
       "20097  https://www.youtube.com/watch?v=VMFLbFRNCn0   \n",
       "20098  https://www.youtube.com/watch?v=zau0dckCFi0   \n",
       "\n",
       "                                                   Title              Channel  \\\n",
       "0             Gorillaz - Feel Good Inc. (Official Video)             Gorillaz   \n",
       "1      Gorillaz - Rhinestone Eyes [Storyboard Film] (...             Gorillaz   \n",
       "2      Gorillaz - New Gold ft. Tame Impala & Bootie B...             Gorillaz   \n",
       "3         Gorillaz - On Melancholy Hill (Official Video)             Gorillaz   \n",
       "4             Gorillaz - Clint Eastwood (Official Video)             Gorillaz   \n",
       "...                                                  ...                  ...   \n",
       "20094                               JUST DANCE HARDSTYLE  SICK LEGEND - Topic   \n",
       "20095                     SET FIRE TO THE RAIN HARDSTYLE  SICK LEGEND - Topic   \n",
       "20096                          OUTSIDE HARDSTYLE SPED UP  SICK LEGEND - Topic   \n",
       "20097                                ONLY GIRL HARDSTYLE  SICK LEGEND - Topic   \n",
       "20098                                 MISS YOU HARDSTYLE  SICK LEGEND - Topic   \n",
       "\n",
       "             Views      Likes  Comments  \n",
       "0      693555221.0  6220896.0  169907.0  \n",
       "1       72011645.0  1079128.0   31003.0  \n",
       "2        8435055.0   282142.0    7399.0  \n",
       "3      211754952.0  1788577.0   55229.0  \n",
       "4      618480958.0  6197318.0  155930.0  \n",
       "...            ...        ...       ...  \n",
       "20094      71678.0     1113.0       0.0  \n",
       "20095     164741.0     2019.0       0.0  \n",
       "20096      35646.0      329.0       0.0  \n",
       "20097       6533.0       88.0       0.0  \n",
       "20098     158697.0     2484.0       0.0  \n",
       "\n",
       "[20099 rows x 19 columns]"
      ]
     },
     "execution_count": 8,
     "metadata": {},
     "output_type": "execute_result"
    }
   ],
   "source": [
    "#Почистили от нулей\n",
    "\n",
    "df.dropna(inplace=True)\n",
    "df.reset_index(inplace=True, drop=True)\n",
    "df"
   ]
  },
  {
   "cell_type": "code",
   "execution_count": 9,
   "id": "57cdac76",
   "metadata": {},
   "outputs": [
    {
     "name": "stdout",
     "output_type": "stream",
     "text": [
      "<class 'pandas.core.frame.DataFrame'>\n",
      "RangeIndex: 20099 entries, 0 to 20098\n",
      "Data columns (total 19 columns):\n",
      " #   Column            Non-Null Count  Dtype  \n",
      "---  ------            --------------  -----  \n",
      " 0   Artist            20099 non-null  object \n",
      " 1   Url_spotify       20099 non-null  object \n",
      " 2   Track             20099 non-null  object \n",
      " 3   Danceability      20099 non-null  float64\n",
      " 4   Energy            20099 non-null  float64\n",
      " 5   Loudness          20099 non-null  float64\n",
      " 6   Speechiness       20099 non-null  float64\n",
      " 7   Acousticness      20099 non-null  float64\n",
      " 8   Instrumentalness  20099 non-null  float64\n",
      " 9   Liveness          20099 non-null  float64\n",
      " 10  Valence           20099 non-null  float64\n",
      " 11  Tempo             20099 non-null  float64\n",
      " 12  Duration_ms       20099 non-null  float64\n",
      " 13  Url_youtube       20099 non-null  object \n",
      " 14  Title             20099 non-null  object \n",
      " 15  Channel           20099 non-null  object \n",
      " 16  Views             20099 non-null  float64\n",
      " 17  Likes             20099 non-null  float64\n",
      " 18  Comments          20099 non-null  float64\n",
      "dtypes: float64(13), object(6)\n",
      "memory usage: 2.9+ MB\n"
     ]
    }
   ],
   "source": [
    "df.info()"
   ]
  },
  {
   "cell_type": "code",
   "execution_count": 10,
   "id": "1fe85a49",
   "metadata": {},
   "outputs": [
    {
     "data": {
      "text/html": [
       "<div>\n",
       "<style scoped>\n",
       "    .dataframe tbody tr th:only-of-type {\n",
       "        vertical-align: middle;\n",
       "    }\n",
       "\n",
       "    .dataframe tbody tr th {\n",
       "        vertical-align: top;\n",
       "    }\n",
       "\n",
       "    .dataframe thead th {\n",
       "        text-align: right;\n",
       "    }\n",
       "</style>\n",
       "<table border=\"1\" class=\"dataframe\">\n",
       "  <thead>\n",
       "    <tr style=\"text-align: right;\">\n",
       "      <th></th>\n",
       "      <th>Danceability</th>\n",
       "      <th>Energy</th>\n",
       "      <th>Loudness</th>\n",
       "      <th>Speechiness</th>\n",
       "      <th>Acousticness</th>\n",
       "      <th>Instrumentalness</th>\n",
       "      <th>Liveness</th>\n",
       "      <th>Valence</th>\n",
       "      <th>Tempo</th>\n",
       "      <th>Duration_ms</th>\n",
       "      <th>Views</th>\n",
       "      <th>Likes</th>\n",
       "      <th>Comments</th>\n",
       "    </tr>\n",
       "  </thead>\n",
       "  <tbody>\n",
       "    <tr>\n",
       "      <th>count</th>\n",
       "      <td>20099.000000</td>\n",
       "      <td>20099.000000</td>\n",
       "      <td>20099.000000</td>\n",
       "      <td>20099.000000</td>\n",
       "      <td>20099.000000</td>\n",
       "      <td>20099.000000</td>\n",
       "      <td>20099.000000</td>\n",
       "      <td>20099.000000</td>\n",
       "      <td>20099.000000</td>\n",
       "      <td>2.009900e+04</td>\n",
       "      <td>2.009900e+04</td>\n",
       "      <td>2.009900e+04</td>\n",
       "      <td>2.009900e+04</td>\n",
       "    </tr>\n",
       "    <tr>\n",
       "      <th>mean</th>\n",
       "      <td>0.620341</td>\n",
       "      <td>0.635337</td>\n",
       "      <td>-7.657251</td>\n",
       "      <td>0.096240</td>\n",
       "      <td>0.288712</td>\n",
       "      <td>0.055870</td>\n",
       "      <td>0.191615</td>\n",
       "      <td>0.529241</td>\n",
       "      <td>120.630673</td>\n",
       "      <td>2.249283e+05</td>\n",
       "      <td>9.435381e+07</td>\n",
       "      <td>6.638502e+05</td>\n",
       "      <td>2.754543e+04</td>\n",
       "    </tr>\n",
       "    <tr>\n",
       "      <th>std</th>\n",
       "      <td>0.165293</td>\n",
       "      <td>0.213696</td>\n",
       "      <td>4.616015</td>\n",
       "      <td>0.110331</td>\n",
       "      <td>0.285776</td>\n",
       "      <td>0.193026</td>\n",
       "      <td>0.165614</td>\n",
       "      <td>0.245403</td>\n",
       "      <td>29.595116</td>\n",
       "      <td>1.259050e+05</td>\n",
       "      <td>2.755411e+08</td>\n",
       "      <td>1.791673e+06</td>\n",
       "      <td>1.934518e+05</td>\n",
       "    </tr>\n",
       "    <tr>\n",
       "      <th>min</th>\n",
       "      <td>0.000000</td>\n",
       "      <td>0.000020</td>\n",
       "      <td>-46.251000</td>\n",
       "      <td>0.000000</td>\n",
       "      <td>0.000001</td>\n",
       "      <td>0.000000</td>\n",
       "      <td>0.014500</td>\n",
       "      <td>0.000000</td>\n",
       "      <td>0.000000</td>\n",
       "      <td>3.098500e+04</td>\n",
       "      <td>0.000000e+00</td>\n",
       "      <td>0.000000e+00</td>\n",
       "      <td>0.000000e+00</td>\n",
       "    </tr>\n",
       "    <tr>\n",
       "      <th>25%</th>\n",
       "      <td>0.519000</td>\n",
       "      <td>0.508000</td>\n",
       "      <td>-8.820000</td>\n",
       "      <td>0.035650</td>\n",
       "      <td>0.043800</td>\n",
       "      <td>0.000000</td>\n",
       "      <td>0.094000</td>\n",
       "      <td>0.339000</td>\n",
       "      <td>97.002000</td>\n",
       "      <td>1.803265e+05</td>\n",
       "      <td>1.841181e+06</td>\n",
       "      <td>2.165200e+04</td>\n",
       "      <td>5.130000e+02</td>\n",
       "    </tr>\n",
       "    <tr>\n",
       "      <th>50%</th>\n",
       "      <td>0.638000</td>\n",
       "      <td>0.666000</td>\n",
       "      <td>-6.536000</td>\n",
       "      <td>0.050600</td>\n",
       "      <td>0.189000</td>\n",
       "      <td>0.000002</td>\n",
       "      <td>0.125000</td>\n",
       "      <td>0.536000</td>\n",
       "      <td>119.965000</td>\n",
       "      <td>2.133380e+05</td>\n",
       "      <td>1.459319e+07</td>\n",
       "      <td>1.247020e+05</td>\n",
       "      <td>3.289000e+03</td>\n",
       "    </tr>\n",
       "    <tr>\n",
       "      <th>75%</th>\n",
       "      <td>0.741000</td>\n",
       "      <td>0.797000</td>\n",
       "      <td>-4.938000</td>\n",
       "      <td>0.104000</td>\n",
       "      <td>0.470000</td>\n",
       "      <td>0.000471</td>\n",
       "      <td>0.234000</td>\n",
       "      <td>0.726000</td>\n",
       "      <td>139.935000</td>\n",
       "      <td>2.524335e+05</td>\n",
       "      <td>7.061447e+07</td>\n",
       "      <td>5.221475e+05</td>\n",
       "      <td>1.436400e+04</td>\n",
       "    </tr>\n",
       "    <tr>\n",
       "      <th>max</th>\n",
       "      <td>0.975000</td>\n",
       "      <td>1.000000</td>\n",
       "      <td>0.920000</td>\n",
       "      <td>0.964000</td>\n",
       "      <td>0.996000</td>\n",
       "      <td>1.000000</td>\n",
       "      <td>1.000000</td>\n",
       "      <td>0.993000</td>\n",
       "      <td>243.372000</td>\n",
       "      <td>4.676058e+06</td>\n",
       "      <td>8.079649e+09</td>\n",
       "      <td>5.078865e+07</td>\n",
       "      <td>1.608314e+07</td>\n",
       "    </tr>\n",
       "  </tbody>\n",
       "</table>\n",
       "</div>"
      ],
      "text/plain": [
       "       Danceability        Energy      Loudness   Speechiness  Acousticness  \\\n",
       "count  20099.000000  20099.000000  20099.000000  20099.000000  20099.000000   \n",
       "mean       0.620341      0.635337     -7.657251      0.096240      0.288712   \n",
       "std        0.165293      0.213696      4.616015      0.110331      0.285776   \n",
       "min        0.000000      0.000020    -46.251000      0.000000      0.000001   \n",
       "25%        0.519000      0.508000     -8.820000      0.035650      0.043800   \n",
       "50%        0.638000      0.666000     -6.536000      0.050600      0.189000   \n",
       "75%        0.741000      0.797000     -4.938000      0.104000      0.470000   \n",
       "max        0.975000      1.000000      0.920000      0.964000      0.996000   \n",
       "\n",
       "       Instrumentalness      Liveness       Valence         Tempo  \\\n",
       "count      20099.000000  20099.000000  20099.000000  20099.000000   \n",
       "mean           0.055870      0.191615      0.529241    120.630673   \n",
       "std            0.193026      0.165614      0.245403     29.595116   \n",
       "min            0.000000      0.014500      0.000000      0.000000   \n",
       "25%            0.000000      0.094000      0.339000     97.002000   \n",
       "50%            0.000002      0.125000      0.536000    119.965000   \n",
       "75%            0.000471      0.234000      0.726000    139.935000   \n",
       "max            1.000000      1.000000      0.993000    243.372000   \n",
       "\n",
       "        Duration_ms         Views         Likes      Comments  \n",
       "count  2.009900e+04  2.009900e+04  2.009900e+04  2.009900e+04  \n",
       "mean   2.249283e+05  9.435381e+07  6.638502e+05  2.754543e+04  \n",
       "std    1.259050e+05  2.755411e+08  1.791673e+06  1.934518e+05  \n",
       "min    3.098500e+04  0.000000e+00  0.000000e+00  0.000000e+00  \n",
       "25%    1.803265e+05  1.841181e+06  2.165200e+04  5.130000e+02  \n",
       "50%    2.133380e+05  1.459319e+07  1.247020e+05  3.289000e+03  \n",
       "75%    2.524335e+05  7.061447e+07  5.221475e+05  1.436400e+04  \n",
       "max    4.676058e+06  8.079649e+09  5.078865e+07  1.608314e+07  "
      ]
     },
     "execution_count": 10,
     "metadata": {},
     "output_type": "execute_result"
    }
   ],
   "source": [
    "df.describe()"
   ]
  },
  {
   "cell_type": "code",
   "execution_count": 11,
   "id": "beda8f74",
   "metadata": {},
   "outputs": [
    {
     "data": {
      "text/plain": [
       "<AxesSubplot:>"
      ]
     },
     "execution_count": 11,
     "metadata": {},
     "output_type": "execute_result"
    },
    {
     "data": {
      "image/png": "[encoded data removed]",
      "text/plain": [
       "<Figure size 432x288 with 1 Axes>"
      ]
     },
     "metadata": {
      "needs_background": "light"
     },
     "output_type": "display_data"
    }
   ],
   "source": [
    "df['Duration_ms'].hist(log=True)"
   ]
  },
  {
   "cell_type": "code",
   "execution_count": 12,
   "id": "82473d77",
   "metadata": {},
   "outputs": [
    {
     "data": {
      "text/plain": [
       "array([[<AxesSubplot:title={'center':'Energy'}>,\n",
       "        <AxesSubplot:title={'center':'Loudness'}>,\n",
       "        <AxesSubplot:title={'center':'Speechiness'}>],\n",
       "       [<AxesSubplot:title={'center':'Acousticness'}>,\n",
       "        <AxesSubplot:title={'center':'Instrumentalness'}>,\n",
       "        <AxesSubplot:title={'center':'Liveness'}>],\n",
       "       [<AxesSubplot:title={'center':'Valence'}>,\n",
       "        <AxesSubplot:title={'center':'Tempo'}>, <AxesSubplot:>]],\n",
       "      dtype=object)"
      ]
     },
     "execution_count": 12,
     "metadata": {},
     "output_type": "execute_result"
    },
    {
     "data": {
      "image/png": "[encoded data removed]",
      "text/plain": [
       "<Figure size 432x288 with 9 Axes>"
      ]
     },
     "metadata": {
      "needs_background": "light"
     },
     "output_type": "display_data"
    }
   ],
   "source": [
    "df_features = df[['Energy', 'Loudness', 'Speechiness', 'Acousticness', 'Instrumentalness', 'Liveness', 'Valence', 'Tempo']]\n",
    "df_features.hist(log=True)"
   ]
  },
  {
   "cell_type": "code",
   "execution_count": 13,
   "id": "6e08fdf3",
   "metadata": {},
   "outputs": [
    {
     "data": {
      "text/plain": [
       "<AxesSubplot:>"
      ]
     },
     "execution_count": 13,
     "metadata": {},
     "output_type": "execute_result"
    },
    {
     "data": {
      "image/png": "[encoded data removed]",
      "text/plain": [
       "<Figure size 432x288 with 1 Axes>"
      ]
     },
     "metadata": {
      "needs_background": "light"
     },
     "output_type": "display_data"
    }
   ],
   "source": [
    "df['Energy'].hist(log=True)"
   ]
  },
  {
   "cell_type": "code",
   "execution_count": 14,
   "id": "33ce9afc",
   "metadata": {},
   "outputs": [
    {
     "data": {
      "text/plain": [
       "<AxesSubplot:>"
      ]
     },
     "execution_count": 14,
     "metadata": {},
     "output_type": "execute_result"
    },
    {
     "data": {
      "image/png": "[encoded data removed]",
      "text/plain": [
       "<Figure size 432x288 with 1 Axes>"
      ]
     },
     "metadata": {
      "needs_background": "light"
     },
     "output_type": "display_data"
    }
   ],
   "source": [
    "df['Loudness'].hist(log=True)"
   ]
  },
  {
   "cell_type": "code",
   "execution_count": 15,
   "id": "dd64d799",
   "metadata": {},
   "outputs": [
    {
     "data": {
      "text/plain": [
       "<AxesSubplot:>"
      ]
     },
     "execution_count": 15,
     "metadata": {},
     "output_type": "execute_result"
    },
    {
     "data": {
      "image/png": "[encoded data removed]",
      "text/plain": [
       "<Figure size 432x288 with 1 Axes>"
      ]
     },
     "metadata": {
      "needs_background": "light"
     },
     "output_type": "display_data"
    }
   ],
   "source": [
    "df['Speechiness'].hist(log=True)"
   ]
  },
  {
   "cell_type": "code",
   "execution_count": 16,
   "id": "df806b95",
   "metadata": {},
   "outputs": [
    {
     "data": {
      "text/plain": [
       "<AxesSubplot:>"
      ]
     },
     "execution_count": 16,
     "metadata": {},
     "output_type": "execute_result"
    },
    {
     "data": {
      "image/png": "[encoded data removed]",
      "text/plain": [
       "<Figure size 432x288 with 1 Axes>"
      ]
     },
     "metadata": {
      "needs_background": "light"
     },
     "output_type": "display_data"
    }
   ],
   "source": [
    "df['Acousticness'].hist(log=True)"
   ]
  },
  {
   "cell_type": "code",
   "execution_count": 17,
   "id": "1efd8cf9",
   "metadata": {},
   "outputs": [
    {
     "data": {
      "text/plain": [
       "<AxesSubplot:>"
      ]
     },
     "execution_count": 17,
     "metadata": {},
     "output_type": "execute_result"
    },
    {
     "data": {
      "image/png": "[encoded data removed]",
      "text/plain": [
       "<Figure size 432x288 with 1 Axes>"
      ]
     },
     "metadata": {
      "needs_background": "light"
     },
     "output_type": "display_data"
    }
   ],
   "source": [
    "df['Valence'].hist()"
   ]
  },
  {
   "cell_type": "code",
   "execution_count": 18,
   "id": "d3fc449b",
   "metadata": {},
   "outputs": [
    {
     "data": {
      "text/plain": [
       "<AxesSubplot:>"
      ]
     },
     "execution_count": 18,
     "metadata": {},
     "output_type": "execute_result"
    },
    {
     "data": {
      "image/png": "[encoded data removed]",
      "text/plain": [
       "<Figure size 432x288 with 1 Axes>"
      ]
     },
     "metadata": {
      "needs_background": "light"
     },
     "output_type": "display_data"
    }
   ],
   "source": [
    "df['Danceability'].hist(log=True)"
   ]
  },
  {
   "cell_type": "code",
   "execution_count": 19,
   "id": "0ead81e5",
   "metadata": {},
   "outputs": [
    {
     "data": {
      "text/html": [
       "<div>\n",
       "<style scoped>\n",
       "    .dataframe tbody tr th:only-of-type {\n",
       "        vertical-align: middle;\n",
       "    }\n",
       "\n",
       "    .dataframe tbody tr th {\n",
       "        vertical-align: top;\n",
       "    }\n",
       "\n",
       "    .dataframe thead th {\n",
       "        text-align: right;\n",
       "    }\n",
       "</style>\n",
       "<table border=\"1\" class=\"dataframe\">\n",
       "  <thead>\n",
       "    <tr style=\"text-align: right;\">\n",
       "      <th></th>\n",
       "      <th>Energy</th>\n",
       "      <th>Loudness</th>\n",
       "      <th>Speechiness</th>\n",
       "      <th>Acousticness</th>\n",
       "      <th>Instrumentalness</th>\n",
       "      <th>Liveness</th>\n",
       "      <th>Valence</th>\n",
       "      <th>Tempo</th>\n",
       "    </tr>\n",
       "  </thead>\n",
       "  <tbody>\n",
       "    <tr>\n",
       "      <th>Energy</th>\n",
       "      <td>1.000000</td>\n",
       "      <td>0.745120</td>\n",
       "      <td>0.072986</td>\n",
       "      <td>-0.661429</td>\n",
       "      <td>-0.311536</td>\n",
       "      <td>0.172121</td>\n",
       "      <td>0.389921</td>\n",
       "      <td>0.155588</td>\n",
       "    </tr>\n",
       "    <tr>\n",
       "      <th>Loudness</th>\n",
       "      <td>0.745120</td>\n",
       "      <td>1.000000</td>\n",
       "      <td>0.045758</td>\n",
       "      <td>-0.551202</td>\n",
       "      <td>-0.548019</td>\n",
       "      <td>0.083902</td>\n",
       "      <td>0.311878</td>\n",
       "      <td>0.141844</td>\n",
       "    </tr>\n",
       "    <tr>\n",
       "      <th>Speechiness</th>\n",
       "      <td>0.072986</td>\n",
       "      <td>0.045758</td>\n",
       "      <td>1.000000</td>\n",
       "      <td>-0.084125</td>\n",
       "      <td>-0.111661</td>\n",
       "      <td>0.080207</td>\n",
       "      <td>0.059551</td>\n",
       "      <td>0.040820</td>\n",
       "    </tr>\n",
       "    <tr>\n",
       "      <th>Acousticness</th>\n",
       "      <td>-0.661429</td>\n",
       "      <td>-0.551202</td>\n",
       "      <td>-0.084125</td>\n",
       "      <td>1.000000</td>\n",
       "      <td>0.276748</td>\n",
       "      <td>-0.049629</td>\n",
       "      <td>-0.202595</td>\n",
       "      <td>-0.130511</td>\n",
       "    </tr>\n",
       "    <tr>\n",
       "      <th>Instrumentalness</th>\n",
       "      <td>-0.311536</td>\n",
       "      <td>-0.548019</td>\n",
       "      <td>-0.111661</td>\n",
       "      <td>0.276748</td>\n",
       "      <td>1.000000</td>\n",
       "      <td>-0.057789</td>\n",
       "      <td>-0.266880</td>\n",
       "      <td>-0.078986</td>\n",
       "    </tr>\n",
       "    <tr>\n",
       "      <th>Liveness</th>\n",
       "      <td>0.172121</td>\n",
       "      <td>0.083902</td>\n",
       "      <td>0.080207</td>\n",
       "      <td>-0.049629</td>\n",
       "      <td>-0.057789</td>\n",
       "      <td>1.000000</td>\n",
       "      <td>0.030426</td>\n",
       "      <td>0.004965</td>\n",
       "    </tr>\n",
       "    <tr>\n",
       "      <th>Valence</th>\n",
       "      <td>0.389921</td>\n",
       "      <td>0.311878</td>\n",
       "      <td>0.059551</td>\n",
       "      <td>-0.202595</td>\n",
       "      <td>-0.266880</td>\n",
       "      <td>0.030426</td>\n",
       "      <td>1.000000</td>\n",
       "      <td>0.091587</td>\n",
       "    </tr>\n",
       "    <tr>\n",
       "      <th>Tempo</th>\n",
       "      <td>0.155588</td>\n",
       "      <td>0.141844</td>\n",
       "      <td>0.040820</td>\n",
       "      <td>-0.130511</td>\n",
       "      <td>-0.078986</td>\n",
       "      <td>0.004965</td>\n",
       "      <td>0.091587</td>\n",
       "      <td>1.000000</td>\n",
       "    </tr>\n",
       "  </tbody>\n",
       "</table>\n",
       "</div>"
      ],
      "text/plain": [
       "                    Energy  Loudness  Speechiness  Acousticness  \\\n",
       "Energy            1.000000  0.745120     0.072986     -0.661429   \n",
       "Loudness          0.745120  1.000000     0.045758     -0.551202   \n",
       "Speechiness       0.072986  0.045758     1.000000     -0.084125   \n",
       "Acousticness     -0.661429 -0.551202    -0.084125      1.000000   \n",
       "Instrumentalness -0.311536 -0.548019    -0.111661      0.276748   \n",
       "Liveness          0.172121  0.083902     0.080207     -0.049629   \n",
       "Valence           0.389921  0.311878     0.059551     -0.202595   \n",
       "Tempo             0.155588  0.141844     0.040820     -0.130511   \n",
       "\n",
       "                  Instrumentalness  Liveness   Valence     Tempo  \n",
       "Energy                   -0.311536  0.172121  0.389921  0.155588  \n",
       "Loudness                 -0.548019  0.083902  0.311878  0.141844  \n",
       "Speechiness              -0.111661  0.080207  0.059551  0.040820  \n",
       "Acousticness              0.276748 -0.049629 -0.202595 -0.130511  \n",
       "Instrumentalness          1.000000 -0.057789 -0.266880 -0.078986  \n",
       "Liveness                 -0.057789  1.000000  0.030426  0.004965  \n",
       "Valence                  -0.266880  0.030426  1.000000  0.091587  \n",
       "Tempo                    -0.078986  0.004965  0.091587  1.000000  "
      ]
     },
     "execution_count": 19,
     "metadata": {},
     "output_type": "execute_result"
    }
   ],
   "source": [
    "df_features.corr()"
   ]
  },
  {
   "cell_type": "markdown",
   "id": "f4cdcd01",
   "metadata": {},
   "source": [
    "Практически между всеми характристиками звука очень низкая корреляция, т.е. признаки линейно не связаны между собой.\n",
    "Исключение - Loudness & Energy, у них коэффициент корреляции равен примерно 0,75, что отражает достаточно сильную связь.\n",
    "Acousticness & Energy - тоже наблюдается умеренная отрицательная линейная зависимость."
   ]
  },
  {
   "cell_type": "code",
   "execution_count": 20,
   "id": "4be6604e",
   "metadata": {},
   "outputs": [
    {
     "data": {
      "image/png": "[encoded data removed]",
      "text/plain": [
       "<Figure size 720x432 with 2 Axes>"
      ]
     },
     "metadata": {
      "needs_background": "light"
     },
     "output_type": "display_data"
    }
   ],
   "source": [
    "plt.figure(figsize=(10,6))\n",
    "sns.heatmap(df.corr(), annot=True, cmap='coolwarm')\n",
    "plt.title('Корреляционная матрица')\n",
    "plt.show()"
   ]
  },
  {
   "cell_type": "code",
   "execution_count": 21,
   "id": "12b7027f",
   "metadata": {},
   "outputs": [
    {
     "data": {
      "image/png": "[encoded data removed]",
      "text/plain": [
       "<Figure size 720x432 with 1 Axes>"
      ]
     },
     "metadata": {
      "needs_background": "light"
     },
     "output_type": "display_data"
    }
   ],
   "source": [
    "plt.figure(figsize=(10,6))\n",
    "sns.scatterplot(x='Loudness', y='Energy', data=df)\n",
    "plt.title('Связь между громкостью и энергичностью')\n",
    "plt.show()"
   ]
  },
  {
   "cell_type": "code",
   "execution_count": 22,
   "id": "86ab8fa2",
   "metadata": {},
   "outputs": [],
   "source": [
    "df_features['Danceability'] = df['Danceability']\n",
    "mat = df_features.corr()"
   ]
  },
  {
   "cell_type": "code",
   "execution_count": 23,
   "id": "6b61c1b8",
   "metadata": {},
   "outputs": [
    {
     "data": {
      "text/plain": [
       "Energy              0.234638\n",
       "Loudness            0.353343\n",
       "Speechiness         0.214938\n",
       "Acousticness       -0.276924\n",
       "Instrumentalness   -0.317689\n",
       "Liveness           -0.083794\n",
       "Valence             0.463827\n",
       "Tempo              -0.065041\n",
       "Danceability        1.000000\n",
       "Name: Danceability, dtype: float64"
      ]
     },
     "execution_count": 23,
     "metadata": {},
     "output_type": "execute_result"
    }
   ],
   "source": [
    "mat['Danceability']"
   ]
  },
  {
   "cell_type": "markdown",
   "id": "e4f15e5a",
   "metadata": {},
   "source": [
    "У меня есть предположение, что фактор, насколько под трек удобно танцевать, зависит от совокупности характеристик музыки - энергичность, громкость, акустичность и тд. \n",
    "Однако сильной корреляции между признаком Danceability и остальными я не наблюдаю. Возможно, тут надо рассматривать все факторы в совокупности (как раз это я и хочу сделать дальше) "
   ]
  },
  {
   "cell_type": "markdown",
   "id": "9f239dd0",
   "metadata": {},
   "source": [
    "Так как корреляция между Energy и Loudness довольно высока (0.745120). Это может указывать на то, что треки, которые громкие, также обычно более энергичные, поэтому создадим новый признак, который будет учитывать и энергичность, и громкость трека. Для этого перемножим эти два значения:"
   ]
  },
  {
   "cell_type": "code",
   "execution_count": 24,
   "id": "e3ffb00a",
   "metadata": {},
   "outputs": [],
   "source": [
    "df['Loud_and_Energetic'] = df['Energy'] * df['Loudness']"
   ]
  },
  {
   "cell_type": "code",
   "execution_count": 25,
   "id": "6bbe5b14",
   "metadata": {},
   "outputs": [
    {
     "data": {
      "image/png": "[encoded data removed]",
      "text/plain": [
       "<Figure size 720x432 with 1 Axes>"
      ]
     },
     "metadata": {
      "needs_background": "light"
     },
     "output_type": "display_data"
    }
   ],
   "source": [
    "plt.figure(figsize=(10,6))\n",
    "sns.histplot(df['Loud_and_Energetic'], kde=True)\n",
    "plt.title('Распределение признака Loud_and_Energetic')\n",
    "plt.show()"
   ]
  },
  {
   "cell_type": "markdown",
   "id": "e79613c6",
   "metadata": {},
   "source": [
    "Так же стоит отиметить, что корреляция между Acousticness и Energy отрицательная и довольно высока (-0.661429). Это может указывать на то, что треки, которые не акустические, обычно более энергичные. Создадим новый признак, который будет учитывать этот факт, для этого вычтем Acousticness из Energy:"
   ]
  },
  {
   "cell_type": "code",
   "execution_count": 26,
   "id": "70ee3276",
   "metadata": {},
   "outputs": [],
   "source": [
    "df['Not_Acoustic'] = df['Energy'] - df['Acousticness']"
   ]
  },
  {
   "cell_type": "code",
   "execution_count": 27,
   "id": "17ca56dd",
   "metadata": {},
   "outputs": [
    {
     "data": {
      "image/png": "[encoded data removed]",
      "text/plain": [
       "<Figure size 720x432 with 1 Axes>"
      ]
     },
     "metadata": {
      "needs_background": "light"
     },
     "output_type": "display_data"
    }
   ],
   "source": [
    "plt.figure(figsize=(10,6))\n",
    "sns.histplot(df['Not_Acoustic'], kde=True)\n",
    "plt.title('Распределение признака Not_Acoustic')\n",
    "plt.show()"
   ]
  },
  {
   "cell_type": "markdown",
   "id": "39357e01",
   "metadata": {},
   "source": [
    "Заметим еще одну отрицательную корреляцию, на этот раз между Instrumentalness и Loudness (-0.548019). Это может указывать на то, что треки, которые менее инструментальны, обычно более громкие. Создадим новый признак, который будет учитывать эту информацию. Для этого вычтем Instrumentalness из Loudness:"
   ]
  },
  {
   "cell_type": "code",
   "execution_count": 28,
   "id": "d4e822d7",
   "metadata": {},
   "outputs": [],
   "source": [
    "df['Non_Instrumental_Loudness'] = df['Loudness'] - df['Instrumentalness']"
   ]
  },
  {
   "cell_type": "code",
   "execution_count": 29,
   "id": "73ee9615",
   "metadata": {},
   "outputs": [
    {
     "data": {
      "image/png": "[encoded data removed]",
      "text/plain": [
       "<Figure size 720x432 with 1 Axes>"
      ]
     },
     "metadata": {
      "needs_background": "light"
     },
     "output_type": "display_data"
    }
   ],
   "source": [
    "plt.figure(figsize=(10,6))\n",
    "sns.histplot(df['Non_Instrumental_Loudness'], kde=True)\n",
    "plt.title('Распределение признака Non_Instrumental_Loudness')\n",
    "plt.show()"
   ]
  },
  {
   "cell_type": "markdown",
   "id": "2dfd0f23",
   "metadata": {},
   "source": [
    "## Гипотезы"
   ]
  },
  {
   "cell_type": "markdown",
   "id": "d8c31f27",
   "metadata": {},
   "source": [
    "На основе проведенного анализа мы выявили несколько гипотез, которые хотим проверить.\n",
    "\n",
    "1. Признак \"Loud_and_Energetic\" не влияет на кол-во просмотров. Мат. ожидания кол-ва просмотров трека с низким значением признака и с высоким равны.\n",
    "2. Признак \"Non_Instrumental_Loudness\" имеет нормальное распределение.\n",
    "3. Чем выше значение признака \"Danceability\", тем больше эмоций трек вызывает у пользователей и тем больше доля лайков к общему числу просмотров."
   ]
  },
  {
   "cell_type": "markdown",
   "id": "8d253550",
   "metadata": {},
   "source": [
    "### Проверка гипотезы №1"
   ]
  },
  {
   "cell_type": "markdown",
   "id": "5b774328",
   "metadata": {},
   "source": [
    "$$\n",
    "\\begin{aligned}\n",
    "&H_0: \\hspace{2mm} \\mu_l = \\mu_{nl} \\\\\n",
    "&H_1: \\hspace{2mm} \\mu_l \\neq \\mu_{nl}\n",
    "\\end{aligned}\n",
    "$$"
   ]
  },
  {
   "cell_type": "markdown",
   "id": "c4775d80",
   "metadata": {},
   "source": [
    "Для начала надо разделить общую выборку на две части: треки, где значения признака \"Loud_and_Energetic\" выше среднего, и треки, где - ниже среднего. Дальше я буду использовать t-test для проверки гипотез, т.к. дисперсии признака неизвестны."
   ]
  },
  {
   "cell_type": "code",
   "execution_count": 64,
   "id": "39fd627a",
   "metadata": {},
   "outputs": [
    {
     "name": "stdout",
     "output_type": "stream",
     "text": [
      "H0 отвергается в пользу альтернативной гипотезы H1\n"
     ]
    }
   ],
   "source": [
    "sample_a = df[df['Loud_and_Energetic'] < df['Loud_and_Energetic'].mean()]\n",
    "sample_b = df[df['Loud_and_Energetic'] >= df['Loud_and_Energetic'].mean()]\n",
    "\n",
    "t_obs = sts.ttest_ind(sample_a['Views'], sample_b['Views'])[0]\n",
    "\n",
    "alpha = 0.05\n",
    "t_crit_right = stats.t.ppf(1 - alpha/2, len(sample_a['Views']+len(sample_a['Views'])-2))\n",
    "t_crit_left = stats.t.ppf(alpha/2, len(sample_a['Views']+len(sample_a['Views'])-2))\n",
    "\n",
    "if (t_obs < t_crit_left) | (t_obs > t_crit_right): \n",
    "    print('H0 отвергается в пользу альтернативной гипотезы H1')\n",
    "else: \n",
    "    print('H0 не отвергается')"
   ]
  },
  {
   "cell_type": "markdown",
   "id": "8b2acbe7",
   "metadata": {},
   "source": [
    "Таким образом, можно сделать вывод, что есть зависимость кол-ва просмотров клипа на трек от значений его признака \"Loud_and_Energetic\"."
   ]
  },
  {
   "cell_type": "markdown",
   "id": "307b28db",
   "metadata": {},
   "source": [
    "### Проверка гипотезы №2"
   ]
  },
  {
   "cell_type": "markdown",
   "id": "5f2390e4",
   "metadata": {},
   "source": [
    "$$\n",
    "\\begin{aligned}\n",
    "&H_0: \\hspace{2mm} X_1...X_n {\\sim} N(\\mu,\\sigma^2)\n",
    "\\end{aligned}\n",
    "$$"
   ]
  },
  {
   "cell_type": "markdown",
   "id": "a4917d92",
   "metadata": {},
   "source": [
    "Для проверки гипотезы использую тест Колмагорова-Смирнова, т.к. он тут отлично подходит."
   ]
  },
  {
   "cell_type": "code",
   "execution_count": 65,
   "id": "c8b7f62f",
   "metadata": {},
   "outputs": [
    {
     "data": {
      "text/plain": [
       "KstestResult(statistic=0.9771369125380189, pvalue=0.0)"
      ]
     },
     "execution_count": 65,
     "metadata": {},
     "output_type": "execute_result"
    }
   ],
   "source": [
    "from scipy.stats import kstest\n",
    "kstest(df['Non_Instrumental_Loudness'], 'norm')"
   ]
  },
  {
   "cell_type": "markdown",
   "id": "60639928",
   "metadata": {},
   "source": [
    "p-value меньше, чем 0.05, поэтому гипотеза отвергается, т.е. распределение признака \"Non_Instrumental_Loudness\" не нормальное."
   ]
  },
  {
   "cell_type": "markdown",
   "id": "fda7cf8c",
   "metadata": {},
   "source": [
    "### Проверка гипотезы №3"
   ]
  },
  {
   "cell_type": "markdown",
   "id": "3740e628",
   "metadata": {},
   "source": [
    "Разделим выборку на две части: где значение признака \"Danceability\" выше или ниже среднего. И сравним, действительно ли математическое ожидание для первой выборки больше, чем для второй. Для этого использую асимптотический тест равенства средних."
   ]
  },
  {
   "cell_type": "markdown",
   "id": "7a7c7dff",
   "metadata": {},
   "source": [
    "$$\n",
    "\\begin{aligned}\n",
    "&H_0: \\hspace{2mm} \\mu_1 = \\mu_{2} \\\\\n",
    "&H_1: \\hspace{2mm} \\mu_1 > \\mu_{2}\n",
    "\\end{aligned}\n",
    "$$"
   ]
  },
  {
   "cell_type": "code",
   "execution_count": 73,
   "id": "d223a305",
   "metadata": {},
   "outputs": [],
   "source": [
    "sample_2 = df[df['Danceability'] < df['Danceability'].mean()]\n",
    "sample_1 = df[df['Danceability'] >= df['Danceability'].mean()]"
   ]
  },
  {
   "cell_type": "code",
   "execution_count": 71,
   "id": "bd4d2289",
   "metadata": {},
   "outputs": [],
   "source": [
    "# функция из семинара №11\n",
    "\n",
    "def asy_mean_test(mean_hat, std_hat, mu_0=0, \n",
    "                   alpha=0.05, alternative='two-sided', margin=3):\n",
    "    \"\"\"\n",
    "        Асимптотический тест для равенства средних\n",
    "    \"\"\"\n",
    "    \n",
    "    z_obs = (mean_hat - mu_0)/std_hat\n",
    "    \n",
    "    if alternative == 'two-sided':\n",
    "        p_value = 2 * (1 - stats.norm().cdf(np.abs(z_obs)))\n",
    "        z_crit = stats.norm().ppf(1 - alpha/2)\n",
    "        \n",
    "        statistics = ['-z_crit', 'z_crit', '-z_obs', 'z_obs']\n",
    "        params = dict(zip(statistics, [(-z_crit, -0.6, -margin, -z_crit, 'b'), \n",
    "                                       (z_crit, 0.05, z_crit, margin, 'b'),\n",
    "                                       (-z_obs, -0.6, -margin, -z_obs, 'r'), \n",
    "                                       (z_obs, 0.1, z_obs, margin, 'r')]))\n",
    "    \n",
    "    if alternative == 'less':\n",
    "        p_value = stats.norm().cdf(z_obs)\n",
    "        z_crit = stats.norm().ppf(1 - alpha)\n",
    "        \n",
    "        statistics = ['-z_crit', '-z_obs']\n",
    "        params = dict(zip(statistics, [(-z_crit, -0.6, -margin, -z_crit, 'b'), \n",
    "                                       (-z_obs, -0.6, -margin, -z_obs, 'r')]))\n",
    "    if alternative == 'larger':\n",
    "        p_value = 1 - stats.norm().cdf(z_obs)\n",
    "        z_crit = stats.norm().ppf(1 - alpha)\n",
    "        \n",
    "        statistics = ['z_crit', 'z_obs']\n",
    "        params = dict(zip(statistics, [(z_crit, 0.05, z_crit, margin, 'b'),\n",
    "                                       (z_obs, 0.1, z_obs, margin, 'r')]))\n",
    "    \n",
    "    \n",
    "    plt.figure(figsize = (8, 4))\n",
    "    x = np.linspace(-margin, margin)\n",
    "    pdf = stats.norm().pdf(x)\n",
    "    plt.plot(x, pdf, color=\"black\")\n",
    "    plt.ylabel(\"$f(x)$\", fontsize=16)\n",
    "    plt.xlabel(\"$x$\", fontsize=16)\n",
    "    y_max = plt.ylim()[1]\n",
    "    \n",
    "    for i in range(len(statistics)):\n",
    "        statistic, text_margin, left_bound, right_bound, color = params[statistics[i]]\n",
    "        \n",
    "        plt.axvline(statistic, color=color, linestyle=\"--\", lw=2)\n",
    "        h = 0.8 if statistics[i].split('_')[-1] == 'crit' else 0.6\n",
    "        plt.text(statistic + text_margin, \n",
    "                 h*y_max, round(statistic, 2), color=color, fontsize=16)\n",
    "        \n",
    "        xq = np.linspace(left_bound, right_bound)\n",
    "        yq = stats.norm().pdf(xq)\n",
    "        plt.fill_between(xq, 0, yq, color=color, alpha=0.2)\n",
    "    \n",
    "    return p_value"
   ]
  },
  {
   "cell_type": "code",
   "execution_count": 77,
   "id": "8d9cc6fc",
   "metadata": {},
   "outputs": [
    {
     "data": {
      "text/plain": [
       "0.5279772251212863"
      ]
     },
     "execution_count": 77,
     "metadata": {},
     "output_type": "execute_result"
    },
    {
     "data": {
      "image/png": "[encoded data removed]",
      "text/plain": [
       "<Figure size 576x288 with 1 Axes>"
      ]
     },
     "metadata": {
      "needs_background": "light"
     },
     "output_type": "display_data"
    }
   ],
   "source": [
    "sample_1['dolya'] = sample_1['Comments']/sample_1['Views']\n",
    "sample_2['dolya'] = sample_2['Comments']/sample_2['Views']\n",
    "\n",
    "mean_hat_sample = sample_1['dolya'].mean() - sample_2['dolya'].mean()\n",
    "std_hat_sample = sample_1['dolya'].std() - sample_2['dolya'].std()\n",
    "\n",
    "asy_mean_test(mean_hat =  mean_hat_sample, std_hat = std_hat_sample, mu_0=0, \n",
    "                   alpha=0.05, alternative='larger', margin=3)"
   ]
  },
  {
   "cell_type": "markdown",
   "id": "6c7c0ca1",
   "metadata": {},
   "source": [
    "Таким образом, p-value больше, чем 0.05, поэтому гипотеза H0 не отвергается. Доля комментариев от просмотров не зависит от признака \"Danceability\"."
   ]
  },
  {
   "cell_type": "markdown",
   "id": "1fe25d43",
   "metadata": {},
   "source": [
    "## Машинное обучение"
   ]
  },
  {
   "cell_type": "markdown",
   "id": "aa368b6a",
   "metadata": {},
   "source": [
    "Нас интересует признак Danceability и мы хотим посмотреть, можно ли его предсказать по таким параметрам, как Loudness & Energy, Non_Instrumental_Loudness, Not_Acoustic, Valence. Это признаки, с которыми наблюдается наибольшая корреляция у признака Danceability.\n",
    "\n",
    "Для данной задачи лучше всего подходит модель линейной регрессии."
   ]
  },
  {
   "cell_type": "code",
   "execution_count": 82,
   "id": "2b2ebd85",
   "metadata": {},
   "outputs": [],
   "source": [
    "df_train, df_test = train_test_split(df, test_size = 0.2, random_state=42)"
   ]
  },
  {
   "cell_type": "code",
   "execution_count": 83,
   "id": "ac9a1154",
   "metadata": {},
   "outputs": [],
   "source": [
    "features = ['Loud_and_Energetic', 'Non_Instrumental_Loudness', 'Not_Acoustic', 'Valence']\n",
    "target = 'Danceability'\n",
    "\n",
    "X_train, X_test = df_train[features], df_test[features]\n",
    "y_train, y_test = df_train[target], df_test[target]"
   ]
  },
  {
   "cell_type": "code",
   "execution_count": 85,
   "id": "a49dd900",
   "metadata": {},
   "outputs": [],
   "source": [
    "model = LinearRegression()\n",
    "model.fit(X_train, y_train)\n",
    "\n",
    "y_train_pred = model.predict(X_train)\n",
    "y_test_pred = model.predict(X_test)"
   ]
  },
  {
   "cell_type": "code",
   "execution_count": 86,
   "id": "f2ae40d3",
   "metadata": {},
   "outputs": [
    {
     "data": {
      "text/plain": [
       "0.5436529521885343"
      ]
     },
     "execution_count": 86,
     "metadata": {},
     "output_type": "execute_result"
    }
   ],
   "source": [
    "model.intercept_"
   ]
  },
  {
   "cell_type": "code",
   "execution_count": 88,
   "id": "d3298cda",
   "metadata": {},
   "outputs": [
    {
     "data": {
      "text/plain": [
       "array([0.00036053, 0.00803892, 0.00253237, 0.26331931])"
      ]
     },
     "execution_count": 88,
     "metadata": {},
     "output_type": "execute_result"
    }
   ],
   "source": [
    "model.coef_"
   ]
  },
  {
   "cell_type": "code",
   "execution_count": 98,
   "id": "28294ebe",
   "metadata": {},
   "outputs": [
    {
     "name": "stdout",
     "output_type": "stream",
     "text": [
      "mse = 0.020838973763189116\n",
      "mae = 0.11564908766669595\n"
     ]
    }
   ],
   "source": [
    "from sklearn.metrics import mean_squared_error, mean_absolute_error\n",
    "mse = mean_squared_error(y_test, model.predict(X_test))\n",
    "mae = mean_absolute_error(y_test, model.predict(X_test))\n",
    "\n",
    "print('mse =', mse)\n",
    "print('mae =', mae)"
   ]
  },
  {
   "cell_type": "markdown",
   "id": "5f68114c",
   "metadata": {},
   "source": [
    "Ошибки mae и mse допустимого размера, что говорит о хорошем качестве модели. Коэффициенты перед переменными тоже адекватных размеров."
   ]
  }
 ],
 "metadata": {
  "kernelspec": {
   "display_name": "Python 3 (ipykernel)",
   "language": "python",
   "name": "python3"
  },
  "language_info": {
   "codemirror_mode": {
    "name": "ipython",
    "version": 3
   },
   "file_extension": ".py",
   "mimetype": "text/x-python",
   "name": "python",
   "nbconvert_exporter": "python",
   "pygments_lexer": "ipython3",
   "version": "3.9.7"
  }
 },
 "nbformat": 4,
 "nbformat_minor": 5
}
